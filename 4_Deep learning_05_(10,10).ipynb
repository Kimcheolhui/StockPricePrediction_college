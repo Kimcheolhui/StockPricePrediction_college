{
 "cells": [
  {
   "cell_type": "markdown",
   "metadata": {},
   "source": [
    "<span style='font-size:150%'>딥러닝 수행 (10점) - TensorFlow, Keras를 활용하여 딥러닝 수행</span>   \n",
    "  \n",
    "다양한 방식으로 딥러닝을 수행한 코딩을 모두 제출할 것    \n",
    "   \n",
    "파일명 : 4_Deep learning_1.ipynb   \n",
    "   \n",
    "(여러개의 파일을 사용한 경우 Deep learning_2.ipynb, Deep learning_3.ipynb...)   "
   ]
  },
  {
   "cell_type": "code",
   "execution_count": 1,
   "metadata": {},
   "outputs": [],
   "source": [
    "import numpy as np\n",
    "import pandas as pd\n",
    "\n",
    "import os\n",
    "import matplotlib.pyplot as plt\n",
    "import matplotlib.font_manager\n",
    "\n",
    "import tensorflow as tf\n",
    "from sklearn.model_selection import train_test_split\n",
    "from tensorflow.keras.models import Sequential\n",
    "from tensorflow.keras.layers import Dense, LSTM\n",
    "from tensorflow.keras.callbacks import EarlyStopping, ModelCheckpoint\n",
    "\n",
    "seed=0\n",
    "np.random.seed(3)\n",
    "tf.random.set_seed(3)"
   ]
  },
  {
   "cell_type": "code",
   "execution_count": 2,
   "metadata": {},
   "outputs": [
    {
     "data": {
      "text/plain": [
       "'D:\\\\ai\\\\Final'"
      ]
     },
     "execution_count": 2,
     "metadata": {},
     "output_type": "execute_result"
    }
   ],
   "source": [
    "import os\n",
    "os.getcwd()"
   ]
  },
  {
   "cell_type": "markdown",
   "metadata": {},
   "source": [
    "# 데이터\n",
    "Data_set_1 : 종가,시가, 고가, 저가, 거래량, 변동 데이터가 담김. 아직 클래스 데이터 문자 형태  \n",
    "Data_set_2 : 기존 속성 데이터들을 속성들 간의 차로 변경. 스케일링됨. 클래스 데이터 숫자 형태  "
   ]
  },
  {
   "cell_type": "code",
   "execution_count": 3,
   "metadata": {},
   "outputs": [],
   "source": [
    "# 데이터 불러오기\n",
    "\n",
    "# 일반 데이터\n",
    "data_set=pd.read_csv(\"./Data set_2.csv\")"
   ]
  },
  {
   "cell_type": "code",
   "execution_count": 4,
   "metadata": {},
   "outputs": [
    {
     "data": {
      "text/html": [
       "<div>\n",
       "<style scoped>\n",
       "    .dataframe tbody tr th:only-of-type {\n",
       "        vertical-align: middle;\n",
       "    }\n",
       "\n",
       "    .dataframe tbody tr th {\n",
       "        vertical-align: top;\n",
       "    }\n",
       "\n",
       "    .dataframe thead th {\n",
       "        text-align: right;\n",
       "    }\n",
       "</style>\n",
       "<table border=\"1\" class=\"dataframe\">\n",
       "  <thead>\n",
       "    <tr style=\"text-align: right;\">\n",
       "      <th></th>\n",
       "      <th>close-start</th>\n",
       "      <th>high-low</th>\n",
       "      <th>high-close</th>\n",
       "      <th>high-start</th>\n",
       "      <th>close-low</th>\n",
       "      <th>start-low</th>\n",
       "      <th>volume</th>\n",
       "      <th>Diff</th>\n",
       "    </tr>\n",
       "  </thead>\n",
       "  <tbody>\n",
       "    <tr>\n",
       "      <th>0</th>\n",
       "      <td>0.541985</td>\n",
       "      <td>0.033708</td>\n",
       "      <td>0.067568</td>\n",
       "      <td>0.084337</td>\n",
       "      <td>0.051282</td>\n",
       "      <td>0.024390</td>\n",
       "      <td>0.111197</td>\n",
       "      <td>0</td>\n",
       "    </tr>\n",
       "    <tr>\n",
       "      <th>1</th>\n",
       "      <td>0.465649</td>\n",
       "      <td>0.168539</td>\n",
       "      <td>0.121622</td>\n",
       "      <td>0.012048</td>\n",
       "      <td>0.153846</td>\n",
       "      <td>0.243902</td>\n",
       "      <td>0.123828</td>\n",
       "      <td>1</td>\n",
       "    </tr>\n",
       "    <tr>\n",
       "      <th>2</th>\n",
       "      <td>0.465649</td>\n",
       "      <td>0.112360</td>\n",
       "      <td>0.202703</td>\n",
       "      <td>0.084337</td>\n",
       "      <td>0.012821</td>\n",
       "      <td>0.109756</td>\n",
       "      <td>0.134799</td>\n",
       "      <td>1</td>\n",
       "    </tr>\n",
       "    <tr>\n",
       "      <th>3</th>\n",
       "      <td>0.633588</td>\n",
       "      <td>0.101124</td>\n",
       "      <td>0.000000</td>\n",
       "      <td>0.168675</td>\n",
       "      <td>0.192308</td>\n",
       "      <td>0.012195</td>\n",
       "      <td>0.129628</td>\n",
       "      <td>0</td>\n",
       "    </tr>\n",
       "    <tr>\n",
       "      <th>4</th>\n",
       "      <td>0.412214</td>\n",
       "      <td>0.112360</td>\n",
       "      <td>0.202703</td>\n",
       "      <td>0.000000</td>\n",
       "      <td>0.012821</td>\n",
       "      <td>0.195122</td>\n",
       "      <td>0.059433</td>\n",
       "      <td>1</td>\n",
       "    </tr>\n",
       "    <tr>\n",
       "      <th>...</th>\n",
       "      <td>...</td>\n",
       "      <td>...</td>\n",
       "      <td>...</td>\n",
       "      <td>...</td>\n",
       "      <td>...</td>\n",
       "      <td>...</td>\n",
       "      <td>...</td>\n",
       "      <td>...</td>\n",
       "    </tr>\n",
       "    <tr>\n",
       "      <th>594</th>\n",
       "      <td>0.603053</td>\n",
       "      <td>0.292135</td>\n",
       "      <td>0.162162</td>\n",
       "      <td>0.265060</td>\n",
       "      <td>0.256410</td>\n",
       "      <td>0.121951</td>\n",
       "      <td>0.437442</td>\n",
       "      <td>0</td>\n",
       "    </tr>\n",
       "    <tr>\n",
       "      <th>595</th>\n",
       "      <td>0.450382</td>\n",
       "      <td>0.224719</td>\n",
       "      <td>0.324324</td>\n",
       "      <td>0.168675</td>\n",
       "      <td>0.025641</td>\n",
       "      <td>0.146341</td>\n",
       "      <td>0.374049</td>\n",
       "      <td>1</td>\n",
       "    </tr>\n",
       "    <tr>\n",
       "      <th>596</th>\n",
       "      <td>0.801527</td>\n",
       "      <td>0.359551</td>\n",
       "      <td>0.000000</td>\n",
       "      <td>0.433735</td>\n",
       "      <td>0.487179</td>\n",
       "      <td>0.024390</td>\n",
       "      <td>0.357297</td>\n",
       "      <td>0</td>\n",
       "    </tr>\n",
       "    <tr>\n",
       "      <th>597</th>\n",
       "      <td>0.557252</td>\n",
       "      <td>0.224719</td>\n",
       "      <td>0.243243</td>\n",
       "      <td>0.265060</td>\n",
       "      <td>0.102564</td>\n",
       "      <td>0.048780</td>\n",
       "      <td>0.644365</td>\n",
       "      <td>1</td>\n",
       "    </tr>\n",
       "    <tr>\n",
       "      <th>598</th>\n",
       "      <td>0.511450</td>\n",
       "      <td>0.089888</td>\n",
       "      <td>0.108108</td>\n",
       "      <td>0.072289</td>\n",
       "      <td>0.076923</td>\n",
       "      <td>0.097561</td>\n",
       "      <td>0.254465</td>\n",
       "      <td>0</td>\n",
       "    </tr>\n",
       "  </tbody>\n",
       "</table>\n",
       "<p>599 rows × 8 columns</p>\n",
       "</div>"
      ],
      "text/plain": [
       "     close-start  high-low  high-close  high-start  close-low  start-low  \\\n",
       "0       0.541985  0.033708    0.067568    0.084337   0.051282   0.024390   \n",
       "1       0.465649  0.168539    0.121622    0.012048   0.153846   0.243902   \n",
       "2       0.465649  0.112360    0.202703    0.084337   0.012821   0.109756   \n",
       "3       0.633588  0.101124    0.000000    0.168675   0.192308   0.012195   \n",
       "4       0.412214  0.112360    0.202703    0.000000   0.012821   0.195122   \n",
       "..           ...       ...         ...         ...        ...        ...   \n",
       "594     0.603053  0.292135    0.162162    0.265060   0.256410   0.121951   \n",
       "595     0.450382  0.224719    0.324324    0.168675   0.025641   0.146341   \n",
       "596     0.801527  0.359551    0.000000    0.433735   0.487179   0.024390   \n",
       "597     0.557252  0.224719    0.243243    0.265060   0.102564   0.048780   \n",
       "598     0.511450  0.089888    0.108108    0.072289   0.076923   0.097561   \n",
       "\n",
       "       volume  Diff  \n",
       "0    0.111197     0  \n",
       "1    0.123828     1  \n",
       "2    0.134799     1  \n",
       "3    0.129628     0  \n",
       "4    0.059433     1  \n",
       "..        ...   ...  \n",
       "594  0.437442     0  \n",
       "595  0.374049     1  \n",
       "596  0.357297     0  \n",
       "597  0.644365     1  \n",
       "598  0.254465     0  \n",
       "\n",
       "[599 rows x 8 columns]"
      ]
     },
     "execution_count": 4,
     "metadata": {},
     "output_type": "execute_result"
    }
   ],
   "source": [
    "data_set"
   ]
  },
  {
   "cell_type": "markdown",
   "metadata": {},
   "source": [
    "# 데이터셋 설정"
   ]
  },
  {
   "cell_type": "markdown",
   "metadata": {},
   "source": [
    "주가를 예측하는 것은 시계열 데이터를 필요로 하기 때문에 기존 데이터를 시계열 데이터에 맞게 변형을 해줘야 한다.  \n",
    "며칠 동안의 데이터를 가지고 예측을 할지를 window_size에 입력받고, 해당 숫자를 기반으로 시계열 데이터를 생성할 것이다.  \n",
    "window_size에 따라 딥러닝 결과가 달라질 수 있기 때문에 시계열 데이터를 '2_...'나 '3_...'에서 만들지 않고 '4_...'에서 바로바로 만들어서 사용했다."
   ]
  },
  {
   "cell_type": "markdown",
   "metadata": {},
   "source": [
    "또한 여러번 실행을 해보기 위해 함수를 사용했다."
   ]
  },
  {
   "cell_type": "code",
   "execution_count": 5,
   "metadata": {},
   "outputs": [],
   "source": [
    "# window의 사이즈와 train dataset의 사이즈 입력받는 함수\n",
    "\n",
    "def set_window_train_size(data):\n",
    "    \n",
    "    # 학습 데이터셋 70% 테스트 데이터셋 30%로 나눈다. (고정)\n",
    "    train_size=int(len(data)*0.7) \n",
    "    \n",
    "    # 시계열 데이터셋을 만들 때, 몇 개의 데이터를 가지고 만들지 설정한다.\n",
    "    # 예 : window_size=30 => 30일간의 데이터를 가진 시계열 데이터셋\n",
    "    window_size=int(input(\"window size : \"))\n",
    "\n",
    "    return window_size, train_size"
   ]
  },
  {
   "cell_type": "code",
   "execution_count": 6,
   "metadata": {},
   "outputs": [],
   "source": [
    "# feature 데이터와 class 데이터를 구분\n",
    "\n",
    "def split_feature_class(data):\n",
    "    \n",
    "    #feature_cols = ['close-start', 'high-low', 'high-close', 'high-start','close-low','start-low','volume']\n",
    "    #close_cols = ['close']\n",
    "    \n",
    "    feature_cols = ['close-start', 'high-low', 'high-close', 'high-start','close-low','start-low','volume']\n",
    "    close_cols = ['Diff']\n",
    "    \n",
    "    data_feature = data[feature_cols]\n",
    "    data_close = data[close_cols]\n",
    "    \n",
    "    return data_feature, data_close"
   ]
  },
  {
   "cell_type": "code",
   "execution_count": 7,
   "metadata": {},
   "outputs": [],
   "source": [
    "# window_size에 따라 데이터를 묶어주고 새로운 데이터셋 리턴\n",
    "def make_window_data(feature_data, class_data, window_size):\n",
    "    \n",
    "    feature_list=[]\n",
    "    class_list=[]\n",
    "    \n",
    "    for i in range(len(feature_data)-window_size):\n",
    "        feature_list.append(np.array(feature_data.iloc[i:i+window_size]))\n",
    "        class_list.append(np.array(class_data.iloc[i+window_size]))\n",
    "    \n",
    "    return np.array(feature_list), np.array(class_list)"
   ]
  },
  {
   "cell_type": "code",
   "execution_count": 8,
   "metadata": {},
   "outputs": [],
   "source": [
    "def make_dataset(data):\n",
    "    \n",
    "    # 시계열 데이터 크기(window_size)와 학습 데이터(train_size)의 크기\n",
    "    window_size, train_size=set_window_train_size(data)\n",
    "    \n",
    "    # 학습 데이터셋과 테스트 데이터셋 분리\n",
    "    train = data[:train_size] \n",
    "    test = data[train_size:] \n",
    "    \n",
    "    train_feature, train_class = split_feature_class(train)\n",
    "    test_feature, test_class = split_feature_class(test)\n",
    "    \n",
    "    train_feature, train_class = make_window_data(train_feature, train_class, window_size)\n",
    "    test_feature, test_class = make_window_data(test_feature, test_class, window_size)\n",
    "    \n",
    "    return train_feature, train_class, test_feature, test_class, window_size"
   ]
  },
  {
   "cell_type": "code",
   "execution_count": 9,
   "metadata": {},
   "outputs": [],
   "source": [
    "# 학습 데이터셋을 train과 valid로 분리\n",
    "\n",
    "def train_valid(train_feature,train_class):\n",
    "    split_size= float(input(\"학습 데이터 중 test size(validation data의 size)의 비율 (예 : 0.2) : \"))\n",
    "    X_train, X_valid, Y_train, Y_valid = train_test_split(train_feature, train_class, test_size = split_size, random_state=seed)\n",
    "    return X_train, X_valid, Y_train, Y_valid"
   ]
  },
  {
   "cell_type": "markdown",
   "metadata": {},
   "source": [
    "# 기본 데이터에 대한 딥러닝"
   ]
  },
  {
   "cell_type": "code",
   "execution_count": 10,
   "metadata": {
    "scrolled": true
   },
   "outputs": [
    {
     "name": "stdout",
     "output_type": "stream",
     "text": [
      "window size : 10\n",
      "학습 데이터 중 test size(validation data의 size)의 비율 (예 : 0.2) : 0.2\n"
     ]
    }
   ],
   "source": [
    "train_feature, train_class, test_feature, test_class, window_size = make_dataset(data_set)\n",
    "\n",
    "X_train, X_valid, Y_train, Y_valid = train_valid(train_feature, train_class)"
   ]
  },
  {
   "cell_type": "markdown",
   "metadata": {},
   "source": [
    "# 모델 설정"
   ]
  },
  {
   "cell_type": "markdown",
   "metadata": {},
   "source": [
    "<span style='font-size:150%'>[LSTM]</span>  \n",
    "  \n",
    "시계열 데이터이기 때문에 LSTM을 사용했다.  \n",
    "\n",
    "2진 class(0 or 1)      \n",
    "활성화 함수 : 'sigmoid'   \n",
    "손실 함수 : 'binary_crossentropy'  "
   ]
  },
  {
   "cell_type": "code",
   "execution_count": 35,
   "metadata": {},
   "outputs": [
    {
     "name": "stdout",
     "output_type": "stream",
     "text": [
      "Model: \"sequential_3\"\n",
      "_________________________________________________________________\n",
      "Layer (type)                 Output Shape              Param #   \n",
      "=================================================================\n",
      "lstm_3 (LSTM)                (None, 20)                2240      \n",
      "_________________________________________________________________\n",
      "dense_3 (Dense)              (None, 1)                 21        \n",
      "=================================================================\n",
      "Total params: 2,261\n",
      "Trainable params: 2,261\n",
      "Non-trainable params: 0\n",
      "_________________________________________________________________\n"
     ]
    }
   ],
   "source": [
    "model = Sequential()\n",
    "model.add(LSTM(20, \n",
    "               input_shape=(train_feature.shape[1], train_feature.shape[2]), #시계열 데이터셋의 구조\n",
    "               activation='relu',return_sequences=False))\n",
    "model.add(Dense(1,activation='sigmoid'))\n",
    "\n",
    "model.compile(loss='binary_crossentropy', optimizer='rmsprop',metrics=['accuracy'])\n",
    "\n",
    "#optimizer='rmsprop'\n",
    "#optimizer='adam'\n",
    "\n",
    "model.summary()"
   ]
  },
  {
   "cell_type": "markdown",
   "metadata": {},
   "source": [
    "# 모델 업데이트 과정 저장을 위한 환경 설정"
   ]
  },
  {
   "cell_type": "code",
   "execution_count": 36,
   "metadata": {},
   "outputs": [],
   "source": [
    "# 모델 저장 폴더 생성\n",
    "model_dir='./model_save'\n",
    "if not os.path.exists(model_dir):\n",
    "    os.mkdir(model_dir)\n",
    "    \n",
    "# 파일 저장 경로\n",
    "model_path='./model_save/5_'+str(window_size)+'_{epoch:d}_{val_loss:.4f}_{val_accuracy:.4f}.h5'"
   ]
  },
  {
   "cell_type": "code",
   "execution_count": 37,
   "metadata": {},
   "outputs": [
    {
     "data": {
      "text/plain": [
       "'./model_save/5_10_{epoch:d}_{val_loss:.4f}_{val_accuracy:.4f}.h5'"
      ]
     },
     "execution_count": 37,
     "metadata": {},
     "output_type": "execute_result"
    }
   ],
   "source": [
    "model_path"
   ]
  },
  {
   "cell_type": "code",
   "execution_count": 38,
   "metadata": {},
   "outputs": [],
   "source": [
    "# 학습 자동 중단 설정\n",
    "# 20번 연속 성능에 변화 없으면 학습 멈춤\n",
    "early_stop = EarlyStopping(monitor='val_loss', patience=20)"
   ]
  },
  {
   "cell_type": "code",
   "execution_count": 39,
   "metadata": {
    "scrolled": true
   },
   "outputs": [],
   "source": [
    "# 모델 업데이트 및 저장\n",
    "checkpoint = ModelCheckpoint(filepath=model_path, monitor='val_loss', verbose=1, save_best_only=True)"
   ]
  },
  {
   "cell_type": "markdown",
   "metadata": {},
   "source": [
    "# 딥러닝"
   ]
  },
  {
   "cell_type": "code",
   "execution_count": 40,
   "metadata": {
    "scrolled": true
   },
   "outputs": [
    {
     "name": "stdout",
     "output_type": "stream",
     "text": [
      "Train on 327 samples, validate on 82 samples\n",
      "Epoch 1/200\n",
      "270/327 [=======================>......] - ETA: 0s - loss: 0.6932 - accuracy: 0.4926\n",
      "Epoch 00001: val_loss improved from inf to 0.69176, saving model to ./model_save/5_10_1_0.6918_0.5732.h5\n",
      "327/327 [==============================] - 2s 5ms/sample - loss: 0.6933 - accuracy: 0.4924 - val_loss: 0.6918 - val_accuracy: 0.5732\n",
      "Epoch 2/200\n",
      "300/327 [==========================>...] - ETA: 0s - loss: 0.6923 - accuracy: 0.5367\n",
      "Epoch 00002: val_loss did not improve from 0.69176\n",
      "327/327 [==============================] - 0s 626us/sample - loss: 0.6926 - accuracy: 0.5291 - val_loss: 0.6919 - val_accuracy: 0.5854\n",
      "Epoch 3/200\n",
      "310/327 [===========================>..] - ETA: 0s - loss: 0.6926 - accuracy: 0.5065\n",
      "Epoch 00003: val_loss did not improve from 0.69176\n",
      "327/327 [==============================] - 0s 615us/sample - loss: 0.6926 - accuracy: 0.5046 - val_loss: 0.6921 - val_accuracy: 0.5122\n",
      "Epoch 4/200\n",
      "290/327 [=========================>....] - ETA: 0s - loss: 0.6924 - accuracy: 0.5138\n",
      "Epoch 00004: val_loss did not improve from 0.69176\n",
      "327/327 [==============================] - 0s 699us/sample - loss: 0.6925 - accuracy: 0.5107 - val_loss: 0.6921 - val_accuracy: 0.5000\n",
      "Epoch 5/200\n",
      "260/327 [======================>.......] - ETA: 0s - loss: 0.6915 - accuracy: 0.5423\n",
      "Epoch 00005: val_loss did not improve from 0.69176\n",
      "327/327 [==============================] - 0s 689us/sample - loss: 0.6924 - accuracy: 0.5199 - val_loss: 0.6919 - val_accuracy: 0.5122\n",
      "Epoch 6/200\n",
      "300/327 [==========================>...] - ETA: 0s - loss: 0.6915 - accuracy: 0.5333\n",
      "Epoch 00006: val_loss did not improve from 0.69176\n",
      "327/327 [==============================] - 0s 643us/sample - loss: 0.6919 - accuracy: 0.5291 - val_loss: 0.6924 - val_accuracy: 0.4878\n",
      "Epoch 7/200\n",
      "280/327 [========================>.....] - ETA: 0s - loss: 0.6918 - accuracy: 0.5179\n",
      "Epoch 00007: val_loss did not improve from 0.69176\n",
      "327/327 [==============================] - 0s 677us/sample - loss: 0.6923 - accuracy: 0.5138 - val_loss: 0.6924 - val_accuracy: 0.4878\n",
      "Epoch 8/200\n",
      "320/327 [============================>.] - ETA: 0s - loss: 0.6919 - accuracy: 0.5125\n",
      "Epoch 00008: val_loss did not improve from 0.69176\n",
      "327/327 [==============================] - 0s 598us/sample - loss: 0.6920 - accuracy: 0.5107 - val_loss: 0.6919 - val_accuracy: 0.5000\n",
      "Epoch 9/200\n",
      "310/327 [===========================>..] - ETA: 0s - loss: 0.6917 - accuracy: 0.5032\n",
      "Epoch 00009: val_loss did not improve from 0.69176\n",
      "327/327 [==============================] - 0s 607us/sample - loss: 0.6918 - accuracy: 0.5046 - val_loss: 0.6921 - val_accuracy: 0.4878\n",
      "Epoch 10/200\n",
      "310/327 [===========================>..] - ETA: 0s - loss: 0.6917 - accuracy: 0.5258\n",
      "Epoch 00010: val_loss did not improve from 0.69176\n",
      "327/327 [==============================] - 0s 593us/sample - loss: 0.6919 - accuracy: 0.5260 - val_loss: 0.6918 - val_accuracy: 0.5000\n",
      "Epoch 11/200\n",
      "310/327 [===========================>..] - ETA: 0s - loss: 0.6920 - accuracy: 0.5161\n",
      "Epoch 00011: val_loss improved from 0.69176 to 0.69129, saving model to ./model_save/5_10_11_0.6913_0.5122.h5\n",
      "327/327 [==============================] - 0s 647us/sample - loss: 0.6916 - accuracy: 0.5229 - val_loss: 0.6913 - val_accuracy: 0.5122\n",
      "Epoch 12/200\n",
      "310/327 [===========================>..] - ETA: 0s - loss: 0.6916 - accuracy: 0.5194\n",
      "Epoch 00012: val_loss improved from 0.69129 to 0.69117, saving model to ./model_save/5_10_12_0.6912_0.5244.h5\n",
      "327/327 [==============================] - 0s 653us/sample - loss: 0.6917 - accuracy: 0.5168 - val_loss: 0.6912 - val_accuracy: 0.5244\n",
      "Epoch 13/200\n",
      "270/327 [=======================>......] - ETA: 0s - loss: 0.6916 - accuracy: 0.5000\n",
      "Epoch 00013: val_loss did not improve from 0.69117\n",
      "327/327 [==============================] - 0s 718us/sample - loss: 0.6916 - accuracy: 0.5015 - val_loss: 0.6913 - val_accuracy: 0.5366\n",
      "Epoch 14/200\n",
      "250/327 [=====================>........] - ETA: 0s - loss: 0.6925 - accuracy: 0.5320\n",
      "Epoch 00014: val_loss improved from 0.69117 to 0.69115, saving model to ./model_save/5_10_14_0.6912_0.5244.h5\n",
      "327/327 [==============================] - 0s 830us/sample - loss: 0.6916 - accuracy: 0.5413 - val_loss: 0.6912 - val_accuracy: 0.5244\n",
      "Epoch 15/200\n",
      "300/327 [==========================>...] - ETA: 0s - loss: 0.6918 - accuracy: 0.5067\n",
      "Epoch 00015: val_loss did not improve from 0.69115\n",
      "327/327 [==============================] - 0s 827us/sample - loss: 0.6914 - accuracy: 0.5168 - val_loss: 0.6913 - val_accuracy: 0.5122\n",
      "Epoch 16/200\n",
      "270/327 [=======================>......] - ETA: 0s - loss: 0.6897 - accuracy: 0.5370\n",
      "Epoch 00016: val_loss improved from 0.69115 to 0.69104, saving model to ./model_save/5_10_16_0.6910_0.5244.h5\n",
      "327/327 [==============================] - 0s 1ms/sample - loss: 0.6914 - accuracy: 0.5199 - val_loss: 0.6910 - val_accuracy: 0.5244\n",
      "Epoch 17/200\n",
      "280/327 [========================>.....] - ETA: 0s - loss: 0.6902 - accuracy: 0.5143\n",
      "Epoch 00017: val_loss improved from 0.69104 to 0.69050, saving model to ./model_save/5_10_17_0.6905_0.5122.h5\n",
      "327/327 [==============================] - 0s 1ms/sample - loss: 0.6914 - accuracy: 0.5046 - val_loss: 0.6905 - val_accuracy: 0.5122\n",
      "Epoch 18/200\n",
      "270/327 [=======================>......] - ETA: 0s - loss: 0.6890 - accuracy: 0.5407\n",
      "Epoch 00018: val_loss improved from 0.69050 to 0.69004, saving model to ./model_save/5_10_18_0.6900_0.5732.h5\n",
      "327/327 [==============================] - 0s 1ms/sample - loss: 0.6911 - accuracy: 0.5138 - val_loss: 0.6900 - val_accuracy: 0.5732\n",
      "Epoch 19/200\n",
      "320/327 [============================>.] - ETA: 0s - loss: 0.6916 - accuracy: 0.5250\n",
      "Epoch 00019: val_loss did not improve from 0.69004\n",
      "327/327 [==============================] - 0s 1ms/sample - loss: 0.6910 - accuracy: 0.5321 - val_loss: 0.6903 - val_accuracy: 0.5366\n",
      "Epoch 20/200\n",
      "320/327 [============================>.] - ETA: 0s - loss: 0.6909 - accuracy: 0.5188\n",
      "Epoch 00020: val_loss improved from 0.69004 to 0.68987, saving model to ./model_save/5_10_20_0.6899_0.5610.h5\n",
      "327/327 [==============================] - 0s 1ms/sample - loss: 0.6912 - accuracy: 0.5138 - val_loss: 0.6899 - val_accuracy: 0.5610\n",
      "Epoch 21/200\n",
      "310/327 [===========================>..] - ETA: 0s - loss: 0.6906 - accuracy: 0.5000\n",
      "Epoch 00021: val_loss did not improve from 0.68987\n",
      "327/327 [==============================] - 0s 1ms/sample - loss: 0.6909 - accuracy: 0.4924 - val_loss: 0.6903 - val_accuracy: 0.5366\n",
      "Epoch 22/200\n",
      "310/327 [===========================>..] - ETA: 0s - loss: 0.6900 - accuracy: 0.5194\n",
      "Epoch 00022: val_loss improved from 0.68987 to 0.68947, saving model to ./model_save/5_10_22_0.6895_0.5610.h5\n",
      "327/327 [==============================] - 0s 1ms/sample - loss: 0.6906 - accuracy: 0.5107 - val_loss: 0.6895 - val_accuracy: 0.5610\n",
      "Epoch 23/200\n",
      "320/327 [============================>.] - ETA: 0s - loss: 0.6910 - accuracy: 0.4969\n",
      "Epoch 00023: val_loss did not improve from 0.68947\n",
      "327/327 [==============================] - 0s 1ms/sample - loss: 0.6907 - accuracy: 0.5015 - val_loss: 0.6904 - val_accuracy: 0.5244\n",
      "Epoch 24/200\n",
      "290/327 [=========================>....] - ETA: 0s - loss: 0.6906 - accuracy: 0.5103\n",
      "Epoch 00024: val_loss did not improve from 0.68947\n",
      "327/327 [==============================] - 0s 901us/sample - loss: 0.6905 - accuracy: 0.5138 - val_loss: 0.6900 - val_accuracy: 0.5366\n",
      "Epoch 25/200\n",
      "280/327 [========================>.....] - ETA: 0s - loss: 0.6907 - accuracy: 0.5179\n",
      "Epoch 00025: val_loss did not improve from 0.68947\n",
      "327/327 [==============================] - 0s 970us/sample - loss: 0.6903 - accuracy: 0.5199 - val_loss: 0.6905 - val_accuracy: 0.5244\n",
      "Epoch 26/200\n",
      "260/327 [======================>.......] - ETA: 0s - loss: 0.6916 - accuracy: 0.5000\n",
      "Epoch 00026: val_loss did not improve from 0.68947\n",
      "327/327 [==============================] - 0s 951us/sample - loss: 0.6906 - accuracy: 0.5138 - val_loss: 0.6904 - val_accuracy: 0.5244\n",
      "Epoch 27/200\n",
      "290/327 [=========================>....] - ETA: 0s - loss: 0.6887 - accuracy: 0.5310\n",
      "Epoch 00027: val_loss improved from 0.68947 to 0.68883, saving model to ./model_save/5_10_27_0.6888_0.5610.h5\n",
      "327/327 [==============================] - 0s 990us/sample - loss: 0.6897 - accuracy: 0.5229 - val_loss: 0.6888 - val_accuracy: 0.5610\n"
     ]
    },
    {
     "name": "stdout",
     "output_type": "stream",
     "text": [
      "Epoch 28/200\n",
      "260/327 [======================>.......] - ETA: 0s - loss: 0.6923 - accuracy: 0.5192\n",
      "Epoch 00028: val_loss did not improve from 0.68883\n",
      "327/327 [==============================] - 0s 961us/sample - loss: 0.6910 - accuracy: 0.5260 - val_loss: 0.6895 - val_accuracy: 0.5366\n",
      "Epoch 29/200\n",
      "290/327 [=========================>....] - ETA: 0s - loss: 0.6906 - accuracy: 0.5034\n",
      "Epoch 00029: val_loss did not improve from 0.68883\n",
      "327/327 [==============================] - 0s 891us/sample - loss: 0.6901 - accuracy: 0.5046 - val_loss: 0.6906 - val_accuracy: 0.5122\n",
      "Epoch 30/200\n",
      "290/327 [=========================>....] - ETA: 0s - loss: 0.6919 - accuracy: 0.5138\n",
      "Epoch 00030: val_loss did not improve from 0.68883\n",
      "327/327 [==============================] - 0s 875us/sample - loss: 0.6902 - accuracy: 0.5138 - val_loss: 0.6897 - val_accuracy: 0.5366\n",
      "Epoch 31/200\n",
      "290/327 [=========================>....] - ETA: 0s - loss: 0.6871 - accuracy: 0.5103\n",
      "Epoch 00031: val_loss did not improve from 0.68883\n",
      "327/327 [==============================] - 0s 905us/sample - loss: 0.6916 - accuracy: 0.5229 - val_loss: 0.6895 - val_accuracy: 0.5366\n",
      "Epoch 32/200\n",
      "320/327 [============================>.] - ETA: 0s - loss: 0.6901 - accuracy: 0.5125\n",
      "Epoch 00032: val_loss did not improve from 0.68883\n",
      "327/327 [==============================] - 0s 976us/sample - loss: 0.6906 - accuracy: 0.5046 - val_loss: 0.6895 - val_accuracy: 0.5366\n",
      "Epoch 33/200\n",
      "290/327 [=========================>....] - ETA: 0s - loss: 0.6899 - accuracy: 0.5207\n",
      "Epoch 00033: val_loss did not improve from 0.68883\n",
      "327/327 [==============================] - 0s 887us/sample - loss: 0.6911 - accuracy: 0.5107 - val_loss: 0.6898 - val_accuracy: 0.5244\n",
      "Epoch 34/200\n",
      "290/327 [=========================>....] - ETA: 0s - loss: 0.6898 - accuracy: 0.5207\n",
      "Epoch 00034: val_loss improved from 0.68883 to 0.68821, saving model to ./model_save/5_10_34_0.6882_0.5488.h5\n",
      "327/327 [==============================] - 0s 925us/sample - loss: 0.6896 - accuracy: 0.5260 - val_loss: 0.6882 - val_accuracy: 0.5488\n",
      "Epoch 35/200\n",
      "290/327 [=========================>....] - ETA: 0s - loss: 0.6926 - accuracy: 0.5241\n",
      "Epoch 00035: val_loss did not improve from 0.68821\n",
      "327/327 [==============================] - 0s 874us/sample - loss: 0.6906 - accuracy: 0.5382 - val_loss: 0.6898 - val_accuracy: 0.5244\n",
      "Epoch 36/200\n",
      "290/327 [=========================>....] - ETA: 0s - loss: 0.6866 - accuracy: 0.5172\n",
      "Epoch 00036: val_loss did not improve from 0.68821\n",
      "327/327 [==============================] - 0s 874us/sample - loss: 0.6907 - accuracy: 0.5199 - val_loss: 0.6907 - val_accuracy: 0.5000\n",
      "Epoch 37/200\n",
      "310/327 [===========================>..] - ETA: 0s - loss: 0.6912 - accuracy: 0.5161\n",
      "Epoch 00037: val_loss did not improve from 0.68821\n",
      "327/327 [==============================] - 0s 836us/sample - loss: 0.6908 - accuracy: 0.5138 - val_loss: 0.6900 - val_accuracy: 0.5244\n",
      "Epoch 38/200\n",
      "280/327 [========================>.....] - ETA: 0s - loss: 0.6866 - accuracy: 0.5071\n",
      "Epoch 00038: val_loss did not improve from 0.68821\n",
      "327/327 [==============================] - 0s 899us/sample - loss: 0.6903 - accuracy: 0.5168 - val_loss: 0.6908 - val_accuracy: 0.4756\n",
      "Epoch 39/200\n",
      "310/327 [===========================>..] - ETA: 0s - loss: 0.6890 - accuracy: 0.5355\n",
      "Epoch 00039: val_loss did not improve from 0.68821\n",
      "327/327 [==============================] - 0s 1ms/sample - loss: 0.6900 - accuracy: 0.5229 - val_loss: 0.6908 - val_accuracy: 0.4756\n",
      "Epoch 40/200\n",
      "290/327 [=========================>....] - ETA: 0s - loss: 0.6890 - accuracy: 0.5138\n",
      "Epoch 00040: val_loss did not improve from 0.68821\n",
      "327/327 [==============================] - 0s 900us/sample - loss: 0.6899 - accuracy: 0.5076 - val_loss: 0.6906 - val_accuracy: 0.5244\n",
      "Epoch 41/200\n",
      "310/327 [===========================>..] - ETA: 0s - loss: 0.6899 - accuracy: 0.5097\n",
      "Epoch 00041: val_loss did not improve from 0.68821\n",
      "327/327 [==============================] - 0s 1ms/sample - loss: 0.6899 - accuracy: 0.5138 - val_loss: 0.6905 - val_accuracy: 0.5244\n",
      "Epoch 42/200\n",
      "310/327 [===========================>..] - ETA: 0s - loss: 0.6901 - accuracy: 0.5097\n",
      "Epoch 00042: val_loss did not improve from 0.68821\n",
      "327/327 [==============================] - 0s 1ms/sample - loss: 0.6898 - accuracy: 0.5138 - val_loss: 0.6912 - val_accuracy: 0.4756\n",
      "Epoch 43/200\n",
      "290/327 [=========================>....] - ETA: 0s - loss: 0.6895 - accuracy: 0.5207\n",
      "Epoch 00043: val_loss did not improve from 0.68821\n",
      "327/327 [==============================] - 0s 1ms/sample - loss: 0.6897 - accuracy: 0.5138 - val_loss: 0.6898 - val_accuracy: 0.5244\n",
      "Epoch 44/200\n",
      "300/327 [==========================>...] - ETA: 0s - loss: 0.6900 - accuracy: 0.5467\n",
      "Epoch 00044: val_loss did not improve from 0.68821\n",
      "327/327 [==============================] - 0s 1ms/sample - loss: 0.6907 - accuracy: 0.5413 - val_loss: 0.6911 - val_accuracy: 0.4878\n",
      "Epoch 45/200\n",
      "310/327 [===========================>..] - ETA: 0s - loss: 0.6898 - accuracy: 0.5355\n",
      "Epoch 00045: val_loss did not improve from 0.68821\n",
      "327/327 [==============================] - 0s 1ms/sample - loss: 0.6899 - accuracy: 0.5352 - val_loss: 0.6911 - val_accuracy: 0.5000\n",
      "Epoch 46/200\n",
      "300/327 [==========================>...] - ETA: 0s - loss: 0.6919 - accuracy: 0.5167\n",
      "Epoch 00046: val_loss did not improve from 0.68821\n",
      "327/327 [==============================] - 0s 1ms/sample - loss: 0.6896 - accuracy: 0.5229 - val_loss: 0.6913 - val_accuracy: 0.4878\n",
      "Epoch 47/200\n",
      "280/327 [========================>.....] - ETA: 0s - loss: 0.6923 - accuracy: 0.5429\n",
      "Epoch 00047: val_loss did not improve from 0.68821\n",
      "327/327 [==============================] - 0s 1ms/sample - loss: 0.6913 - accuracy: 0.5352 - val_loss: 0.6910 - val_accuracy: 0.5000\n",
      "Epoch 48/200\n",
      "290/327 [=========================>....] - ETA: 0s - loss: 0.6916 - accuracy: 0.5069\n",
      "Epoch 00048: val_loss did not improve from 0.68821\n",
      "327/327 [==============================] - 0s 1ms/sample - loss: 0.6909 - accuracy: 0.5168 - val_loss: 0.6918 - val_accuracy: 0.4878\n",
      "Epoch 49/200\n",
      "310/327 [===========================>..] - ETA: 0s - loss: 0.6879 - accuracy: 0.5355\n",
      "Epoch 00049: val_loss did not improve from 0.68821\n",
      "327/327 [==============================] - 0s 1ms/sample - loss: 0.6893 - accuracy: 0.5229 - val_loss: 0.6903 - val_accuracy: 0.5244\n",
      "Epoch 50/200\n",
      "310/327 [===========================>..] - ETA: 0s - loss: 0.6895 - accuracy: 0.5323\n",
      "Epoch 00050: val_loss did not improve from 0.68821\n",
      "327/327 [==============================] - 0s 1ms/sample - loss: 0.6897 - accuracy: 0.5352 - val_loss: 0.6909 - val_accuracy: 0.5244\n",
      "Epoch 51/200\n",
      "320/327 [============================>.] - ETA: 0s - loss: 0.6897 - accuracy: 0.5219\n",
      "Epoch 00051: val_loss did not improve from 0.68821\n",
      "327/327 [==============================] - 0s 1ms/sample - loss: 0.6893 - accuracy: 0.5291 - val_loss: 0.6908 - val_accuracy: 0.5366\n",
      "Epoch 52/200\n",
      "320/327 [============================>.] - ETA: 0s - loss: 0.6885 - accuracy: 0.5719\n",
      "Epoch 00052: val_loss did not improve from 0.68821\n",
      "327/327 [==============================] - 0s 1ms/sample - loss: 0.6888 - accuracy: 0.5657 - val_loss: 0.6925 - val_accuracy: 0.4878\n",
      "Epoch 53/200\n",
      "260/327 [======================>.......] - ETA: 0s - loss: 0.6885 - accuracy: 0.5346\n",
      "Epoch 00053: val_loss did not improve from 0.68821\n",
      "327/327 [==============================] - 0s 997us/sample - loss: 0.6885 - accuracy: 0.5199 - val_loss: 0.6925 - val_accuracy: 0.5000\n",
      "Epoch 54/200\n",
      "280/327 [========================>.....] - ETA: 0s - loss: 0.6879 - accuracy: 0.5607\n",
      "Epoch 00054: val_loss did not improve from 0.68821\n",
      "327/327 [==============================] - 0s 952us/sample - loss: 0.6895 - accuracy: 0.5535 - val_loss: 0.6930 - val_accuracy: 0.4878\n"
     ]
    }
   ],
   "source": [
    "history = model.fit(X_train, Y_train,                     \n",
    "                    validation_data=(X_valid, Y_valid), \n",
    "                    epochs=200, \n",
    "                    batch_size=10, \n",
    "                    callbacks=[early_stop, checkpoint])"
   ]
  },
  {
   "cell_type": "code",
   "execution_count": 41,
   "metadata": {
    "scrolled": false
   },
   "outputs": [
    {
     "name": "stdout",
     "output_type": "stream",
     "text": [
      "409/409 [==============================] - 0s 108us/sample - loss: 0.6879 - accuracy: 0.5159\n",
      "\n",
      "Accuracy : 0.5159\n"
     ]
    }
   ],
   "source": [
    "print(\"\\nAccuracy : %.4f\"%(model.evaluate(train_feature,train_class)[1]))"
   ]
  },
  {
   "cell_type": "code",
   "execution_count": 42,
   "metadata": {
    "scrolled": false
   },
   "outputs": [
    {
     "name": "stdout",
     "output_type": "stream",
     "text": [
      "170/170 [==============================] - 0s 129us/sample - loss: 0.6987 - accuracy: 0.5059\n",
      "\n",
      "Accuracy : 0.5059\n"
     ]
    }
   ],
   "source": [
    "print(\"\\nAccuracy : %.4f\"%(model.evaluate(test_feature,test_class)[1]))"
   ]
  },
  {
   "cell_type": "markdown",
   "metadata": {},
   "source": [
    "둘다 겨우 50%를 넘겼다. 탈락."
   ]
  },
  {
   "cell_type": "code",
   "execution_count": null,
   "metadata": {},
   "outputs": [],
   "source": []
  }
 ],
 "metadata": {
  "kernelspec": {
   "display_name": "Python 3",
   "language": "python",
   "name": "python3"
  },
  "language_info": {
   "codemirror_mode": {
    "name": "ipython",
    "version": 3
   },
   "file_extension": ".py",
   "mimetype": "text/x-python",
   "name": "python",
   "nbconvert_exporter": "python",
   "pygments_lexer": "ipython3",
   "version": "3.6.12"
  }
 },
 "nbformat": 4,
 "nbformat_minor": 4
}
