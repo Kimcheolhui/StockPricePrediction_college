{
 "cells": [
  {
   "cell_type": "markdown",
   "metadata": {},
   "source": [
    "<span style='font-size:150%'>딥러닝 수행 (10점) - TensorFlow, Keras를 활용하여 딥러닝 수행</span>   \n",
    "  \n",
    "다양한 방식으로 딥러닝을 수행한 코딩을 모두 제출할 것    \n",
    "   \n",
    "파일명 : 4_Deep learning_1.ipynb   \n",
    "   \n",
    "(여러개의 파일을 사용한 경우 Deep learning_2.ipynb, Deep learning_3.ipynb...)   "
   ]
  },
  {
   "cell_type": "code",
   "execution_count": 1,
   "metadata": {},
   "outputs": [],
   "source": [
    "import numpy as np\n",
    "import pandas as pd\n",
    "\n",
    "import os\n",
    "import matplotlib.pyplot as plt\n",
    "import matplotlib.font_manager\n",
    "\n",
    "import tensorflow as tf\n",
    "from sklearn.model_selection import train_test_split\n",
    "from tensorflow.keras.models import Sequential\n",
    "from tensorflow.keras.layers import Dense, LSTM\n",
    "from tensorflow.keras.callbacks import EarlyStopping, ModelCheckpoint\n",
    "\n",
    "seed=0\n",
    "np.random.seed(3)\n",
    "tf.random.set_seed(3)"
   ]
  },
  {
   "cell_type": "code",
   "execution_count": 2,
   "metadata": {},
   "outputs": [
    {
     "data": {
      "text/plain": [
       "'D:\\\\ai\\\\Final'"
      ]
     },
     "execution_count": 2,
     "metadata": {},
     "output_type": "execute_result"
    }
   ],
   "source": [
    "import os\n",
    "os.getcwd()"
   ]
  },
  {
   "cell_type": "markdown",
   "metadata": {},
   "source": [
    "# 데이터\n",
    "Data_set_1 : 종가,시가, 고가, 저가, 거래량, 변동 데이터가 담김. 아직 클래스 데이터 문자 형태  \n",
    "Data_set_2 : 기존 속성 데이터들을 속성들 간의 차로 변경. 스케일링됨. 클래스 데이터 숫자 형태  "
   ]
  },
  {
   "cell_type": "code",
   "execution_count": 3,
   "metadata": {},
   "outputs": [],
   "source": [
    "# 데이터 불러오기\n",
    "\n",
    "# 일반 데이터\n",
    "data_set=pd.read_csv(\"D:/ai/Final/Data set_2.csv\")"
   ]
  },
  {
   "cell_type": "code",
   "execution_count": 4,
   "metadata": {},
   "outputs": [
    {
     "data": {
      "text/html": [
       "<div>\n",
       "<style scoped>\n",
       "    .dataframe tbody tr th:only-of-type {\n",
       "        vertical-align: middle;\n",
       "    }\n",
       "\n",
       "    .dataframe tbody tr th {\n",
       "        vertical-align: top;\n",
       "    }\n",
       "\n",
       "    .dataframe thead th {\n",
       "        text-align: right;\n",
       "    }\n",
       "</style>\n",
       "<table border=\"1\" class=\"dataframe\">\n",
       "  <thead>\n",
       "    <tr style=\"text-align: right;\">\n",
       "      <th></th>\n",
       "      <th>close-start</th>\n",
       "      <th>high-low</th>\n",
       "      <th>high-close</th>\n",
       "      <th>high-start</th>\n",
       "      <th>close-low</th>\n",
       "      <th>start-low</th>\n",
       "      <th>volume</th>\n",
       "      <th>Diff</th>\n",
       "    </tr>\n",
       "  </thead>\n",
       "  <tbody>\n",
       "    <tr>\n",
       "      <th>0</th>\n",
       "      <td>0.541985</td>\n",
       "      <td>0.033708</td>\n",
       "      <td>0.067568</td>\n",
       "      <td>0.084337</td>\n",
       "      <td>0.051282</td>\n",
       "      <td>0.024390</td>\n",
       "      <td>0.111197</td>\n",
       "      <td>0</td>\n",
       "    </tr>\n",
       "    <tr>\n",
       "      <th>1</th>\n",
       "      <td>0.465649</td>\n",
       "      <td>0.168539</td>\n",
       "      <td>0.121622</td>\n",
       "      <td>0.012048</td>\n",
       "      <td>0.153846</td>\n",
       "      <td>0.243902</td>\n",
       "      <td>0.123828</td>\n",
       "      <td>1</td>\n",
       "    </tr>\n",
       "    <tr>\n",
       "      <th>2</th>\n",
       "      <td>0.465649</td>\n",
       "      <td>0.112360</td>\n",
       "      <td>0.202703</td>\n",
       "      <td>0.084337</td>\n",
       "      <td>0.012821</td>\n",
       "      <td>0.109756</td>\n",
       "      <td>0.134799</td>\n",
       "      <td>1</td>\n",
       "    </tr>\n",
       "    <tr>\n",
       "      <th>3</th>\n",
       "      <td>0.633588</td>\n",
       "      <td>0.101124</td>\n",
       "      <td>0.000000</td>\n",
       "      <td>0.168675</td>\n",
       "      <td>0.192308</td>\n",
       "      <td>0.012195</td>\n",
       "      <td>0.129628</td>\n",
       "      <td>0</td>\n",
       "    </tr>\n",
       "    <tr>\n",
       "      <th>4</th>\n",
       "      <td>0.412214</td>\n",
       "      <td>0.112360</td>\n",
       "      <td>0.202703</td>\n",
       "      <td>0.000000</td>\n",
       "      <td>0.012821</td>\n",
       "      <td>0.195122</td>\n",
       "      <td>0.059433</td>\n",
       "      <td>1</td>\n",
       "    </tr>\n",
       "    <tr>\n",
       "      <th>...</th>\n",
       "      <td>...</td>\n",
       "      <td>...</td>\n",
       "      <td>...</td>\n",
       "      <td>...</td>\n",
       "      <td>...</td>\n",
       "      <td>...</td>\n",
       "      <td>...</td>\n",
       "      <td>...</td>\n",
       "    </tr>\n",
       "    <tr>\n",
       "      <th>594</th>\n",
       "      <td>0.603053</td>\n",
       "      <td>0.292135</td>\n",
       "      <td>0.162162</td>\n",
       "      <td>0.265060</td>\n",
       "      <td>0.256410</td>\n",
       "      <td>0.121951</td>\n",
       "      <td>0.437442</td>\n",
       "      <td>0</td>\n",
       "    </tr>\n",
       "    <tr>\n",
       "      <th>595</th>\n",
       "      <td>0.450382</td>\n",
       "      <td>0.224719</td>\n",
       "      <td>0.324324</td>\n",
       "      <td>0.168675</td>\n",
       "      <td>0.025641</td>\n",
       "      <td>0.146341</td>\n",
       "      <td>0.374049</td>\n",
       "      <td>1</td>\n",
       "    </tr>\n",
       "    <tr>\n",
       "      <th>596</th>\n",
       "      <td>0.801527</td>\n",
       "      <td>0.359551</td>\n",
       "      <td>0.000000</td>\n",
       "      <td>0.433735</td>\n",
       "      <td>0.487179</td>\n",
       "      <td>0.024390</td>\n",
       "      <td>0.357297</td>\n",
       "      <td>0</td>\n",
       "    </tr>\n",
       "    <tr>\n",
       "      <th>597</th>\n",
       "      <td>0.557252</td>\n",
       "      <td>0.224719</td>\n",
       "      <td>0.243243</td>\n",
       "      <td>0.265060</td>\n",
       "      <td>0.102564</td>\n",
       "      <td>0.048780</td>\n",
       "      <td>0.644365</td>\n",
       "      <td>1</td>\n",
       "    </tr>\n",
       "    <tr>\n",
       "      <th>598</th>\n",
       "      <td>0.511450</td>\n",
       "      <td>0.089888</td>\n",
       "      <td>0.108108</td>\n",
       "      <td>0.072289</td>\n",
       "      <td>0.076923</td>\n",
       "      <td>0.097561</td>\n",
       "      <td>0.254465</td>\n",
       "      <td>0</td>\n",
       "    </tr>\n",
       "  </tbody>\n",
       "</table>\n",
       "<p>599 rows × 8 columns</p>\n",
       "</div>"
      ],
      "text/plain": [
       "     close-start  high-low  high-close  high-start  close-low  start-low  \\\n",
       "0       0.541985  0.033708    0.067568    0.084337   0.051282   0.024390   \n",
       "1       0.465649  0.168539    0.121622    0.012048   0.153846   0.243902   \n",
       "2       0.465649  0.112360    0.202703    0.084337   0.012821   0.109756   \n",
       "3       0.633588  0.101124    0.000000    0.168675   0.192308   0.012195   \n",
       "4       0.412214  0.112360    0.202703    0.000000   0.012821   0.195122   \n",
       "..           ...       ...         ...         ...        ...        ...   \n",
       "594     0.603053  0.292135    0.162162    0.265060   0.256410   0.121951   \n",
       "595     0.450382  0.224719    0.324324    0.168675   0.025641   0.146341   \n",
       "596     0.801527  0.359551    0.000000    0.433735   0.487179   0.024390   \n",
       "597     0.557252  0.224719    0.243243    0.265060   0.102564   0.048780   \n",
       "598     0.511450  0.089888    0.108108    0.072289   0.076923   0.097561   \n",
       "\n",
       "       volume  Diff  \n",
       "0    0.111197     0  \n",
       "1    0.123828     1  \n",
       "2    0.134799     1  \n",
       "3    0.129628     0  \n",
       "4    0.059433     1  \n",
       "..        ...   ...  \n",
       "594  0.437442     0  \n",
       "595  0.374049     1  \n",
       "596  0.357297     0  \n",
       "597  0.644365     1  \n",
       "598  0.254465     0  \n",
       "\n",
       "[599 rows x 8 columns]"
      ]
     },
     "execution_count": 4,
     "metadata": {},
     "output_type": "execute_result"
    }
   ],
   "source": [
    "data_set"
   ]
  },
  {
   "cell_type": "markdown",
   "metadata": {},
   "source": [
    "# 데이터셋 설정"
   ]
  },
  {
   "cell_type": "markdown",
   "metadata": {},
   "source": [
    "주가를 예측하는 것은 시계열 데이터를 필요로 하기 때문에 기존 데이터를 시계열 데이터에 맞게 변형을 해줘야 한다.  \n",
    "며칠 동안의 데이터를 가지고 예측을 할지를 window_size에 입력받고, 해당 숫자를 기반으로 시계열 데이터를 생성할 것이다.  \n",
    "window_size에 따라 딥러닝 결과가 달라질 수 있기 때문에 시계열 데이터를 '2_...'나 '3_...'에서 만들지 않고 '4_...'에서 바로바로 만들어서 사용했다."
   ]
  },
  {
   "cell_type": "markdown",
   "metadata": {},
   "source": [
    "또한 여러번 실행을 해보기 위해 함수를 사용했다."
   ]
  },
  {
   "cell_type": "code",
   "execution_count": 5,
   "metadata": {},
   "outputs": [],
   "source": [
    "# window의 사이즈와 train dataset의 사이즈 입력받는 함수\n",
    "\n",
    "def set_window_train_size(data):\n",
    "    \n",
    "    # 학습 데이터셋 70% 테스트 데이터셋 30%로 나눈다. (고정)\n",
    "    train_size=int(len(data)*0.7) \n",
    "    \n",
    "    # 시계열 데이터셋을 만들 때, 몇 개의 데이터를 가지고 만들지 설정한다.\n",
    "    # 예 : window_size=30 => 30일간의 데이터를 가진 시계열 데이터셋\n",
    "    window_size=int(input(\"window size : \"))\n",
    "\n",
    "    return window_size, train_size"
   ]
  },
  {
   "cell_type": "code",
   "execution_count": 6,
   "metadata": {},
   "outputs": [],
   "source": [
    "# feature 데이터와 class 데이터를 구분\n",
    "\n",
    "def split_feature_class(data):\n",
    "    \n",
    "    #feature_cols = ['close-start', 'high-low', 'high-close', 'high-start','close-low','start-low','volume']\n",
    "    #close_cols = ['close']\n",
    "    \n",
    "    feature_cols = ['close-start', 'high-low', 'high-close', 'high-start','close-low','start-low','volume']\n",
    "    close_cols = ['Diff']\n",
    "    \n",
    "    data_feature = data[feature_cols]\n",
    "    data_close = data[close_cols]\n",
    "    \n",
    "    return data_feature, data_close"
   ]
  },
  {
   "cell_type": "code",
   "execution_count": 7,
   "metadata": {},
   "outputs": [],
   "source": [
    "# window_size에 따라 데이터를 묶어주고 새로운 데이터셋 리턴\n",
    "def make_window_data(feature_data, class_data, window_size):\n",
    "    \n",
    "    feature_list=[]\n",
    "    class_list=[]\n",
    "    \n",
    "    for i in range(len(feature_data)-window_size):\n",
    "        feature_list.append(np.array(feature_data.iloc[i:i+window_size]))\n",
    "        class_list.append(np.array(class_data.iloc[i+window_size]))\n",
    "    \n",
    "    return np.array(feature_list), np.array(class_list)"
   ]
  },
  {
   "cell_type": "code",
   "execution_count": 8,
   "metadata": {},
   "outputs": [],
   "source": [
    "def make_dataset(data):\n",
    "    \n",
    "    # 시계열 데이터 크기(window_size)와 학습 데이터(train_size)의 크기\n",
    "    window_size, train_size=set_window_train_size(data)\n",
    "    \n",
    "    # 학습 데이터셋과 테스트 데이터셋 분리\n",
    "    train = data[:train_size] \n",
    "    test = data[train_size:] \n",
    "    \n",
    "    train_feature, train_class = split_feature_class(train)\n",
    "    test_feature, test_class = split_feature_class(test)\n",
    "    \n",
    "    train_feature, train_class = make_window_data(train_feature, train_class, window_size)\n",
    "    test_feature, test_class = make_window_data(test_feature, test_class, window_size)\n",
    "    \n",
    "    return train_feature, train_class, test_feature, test_class, window_size"
   ]
  },
  {
   "cell_type": "code",
   "execution_count": 9,
   "metadata": {},
   "outputs": [],
   "source": [
    "# 학습 데이터셋을 train과 valid로 분리\n",
    "\n",
    "def train_valid(train_feature,train_class):\n",
    "    split_size= float(input(\"학습 데이터 중 test size(validation data의 size)의 비율 (예 : 0.2) : \"))\n",
    "    X_train, X_valid, Y_train, Y_valid = train_test_split(train_feature, train_class, test_size = split_size, random_state=seed)\n",
    "    return X_train, X_valid, Y_train, Y_valid"
   ]
  },
  {
   "cell_type": "markdown",
   "metadata": {},
   "source": [
    "# 기본 데이터에 대한 딥러닝"
   ]
  },
  {
   "cell_type": "code",
   "execution_count": 10,
   "metadata": {
    "scrolled": true
   },
   "outputs": [
    {
     "name": "stdout",
     "output_type": "stream",
     "text": [
      "window size : 5\n",
      "학습 데이터 중 test size(validation data의 size)의 비율 (예 : 0.2) : 0.2\n"
     ]
    }
   ],
   "source": [
    "train_feature, train_class, test_feature, test_class, window_size = make_dataset(data_set)\n",
    "\n",
    "X_train, X_valid, Y_train, Y_valid = train_valid(train_feature, train_class)"
   ]
  },
  {
   "cell_type": "markdown",
   "metadata": {},
   "source": [
    "<span style='font-size:150%'>[LSTM]</span>  \n",
    "  \n",
    "시계열 데이터이기 때문에 LSTM을 사용했다.  \n",
    "2진 class이기 때문에  활성화 함수로 'sigmoid'를, 손실 함수로 'binary_crossentropy'를 사용한다."
   ]
  },
  {
   "cell_type": "code",
   "execution_count": 49,
   "metadata": {},
   "outputs": [
    {
     "name": "stdout",
     "output_type": "stream",
     "text": [
      "Model: \"sequential_4\"\n",
      "_________________________________________________________________\n",
      "Layer (type)                 Output Shape              Param #   \n",
      "=================================================================\n",
      "lstm_4 (LSTM)                (None, 20)                2240      \n",
      "_________________________________________________________________\n",
      "dense_4 (Dense)              (None, 1)                 21        \n",
      "=================================================================\n",
      "Total params: 2,261\n",
      "Trainable params: 2,261\n",
      "Non-trainable params: 0\n",
      "_________________________________________________________________\n"
     ]
    }
   ],
   "source": [
    "model = Sequential()\n",
    "model.add(LSTM(20, \n",
    "               input_shape=(train_feature.shape[1], train_feature.shape[2]), #시계열 데이터의 구조\n",
    "               activation='relu',return_sequences=False))\n",
    "model.add(Dense(1,activation='sigmoid'))\n",
    "\n",
    "model.compile(loss='binary_crossentropy', optimizer='rmsprop',metrics=['accuracy'])\n",
    "\n",
    "#optimizer='rmsprop'\n",
    "#optimizer='adam'\n",
    "\n",
    "model.summary()"
   ]
  },
  {
   "cell_type": "markdown",
   "metadata": {},
   "source": [
    "# 모델 업데이트 과정 저장을 위한 환경 설정"
   ]
  },
  {
   "cell_type": "code",
   "execution_count": 50,
   "metadata": {},
   "outputs": [],
   "source": [
    "# 모델 저장 폴더 생성\n",
    "model_dir='./model_save'\n",
    "if not os.path.exists(model_dir):\n",
    "    os.mkdir(model_dir)\n",
    "    \n",
    "# 파일 저장 경로\n",
    "model_path='./model_save/2_'+str(window_size)+'_{epoch:d}_{val_loss:.4f}_{val_accuracy:.4f}.h5'"
   ]
  },
  {
   "cell_type": "code",
   "execution_count": 51,
   "metadata": {},
   "outputs": [
    {
     "data": {
      "text/plain": [
       "'./model_save/2_5_{epoch:d}_{val_loss:.4f}_{val_accuracy:.4f}.h5'"
      ]
     },
     "execution_count": 51,
     "metadata": {},
     "output_type": "execute_result"
    }
   ],
   "source": [
    "model_path"
   ]
  },
  {
   "cell_type": "code",
   "execution_count": 52,
   "metadata": {},
   "outputs": [],
   "source": [
    "# 학습 자동 중단 설정\n",
    "# 20번 연속 성능에 변화 없으면 학습 멈춤\n",
    "early_stop = EarlyStopping(monitor='val_loss', patience=20)"
   ]
  },
  {
   "cell_type": "code",
   "execution_count": 53,
   "metadata": {
    "scrolled": true
   },
   "outputs": [],
   "source": [
    "# 모델 업데이트 및 저장\n",
    "checkpoint = ModelCheckpoint(filepath=model_path, monitor='val_loss', verbose=1, save_best_only=True)"
   ]
  },
  {
   "cell_type": "code",
   "execution_count": 54,
   "metadata": {
    "scrolled": true
   },
   "outputs": [
    {
     "name": "stdout",
     "output_type": "stream",
     "text": [
      "Train on 331 samples, validate on 83 samples\n",
      "Epoch 1/200\n",
      "280/331 [========================>.....] - ETA: 0s - loss: 0.6939 - accuracy: 0.5107\n",
      "Epoch 00001: val_loss improved from inf to 0.69644, saving model to ./model_save/2_5_1_0.6964_0.4578.h5\n",
      "331/331 [==============================] - 2s 5ms/sample - loss: 0.6933 - accuracy: 0.5166 - val_loss: 0.6964 - val_accuracy: 0.4578\n",
      "Epoch 2/200\n",
      "315/331 [===========================>..] - ETA: 0s - loss: 0.6938 - accuracy: 0.5016\n",
      "Epoch 00002: val_loss did not improve from 0.69644\n",
      "331/331 [==============================] - 0s 783us/sample - loss: 0.6930 - accuracy: 0.5196 - val_loss: 0.6967 - val_accuracy: 0.4578\n",
      "Epoch 3/200\n",
      "260/331 [======================>.......] - ETA: 0s - loss: 0.6923 - accuracy: 0.5269\n",
      "Epoch 00003: val_loss improved from 0.69644 to 0.69520, saving model to ./model_save/2_5_3_0.6952_0.4699.h5\n",
      "331/331 [==============================] - 0s 738us/sample - loss: 0.6927 - accuracy: 0.5166 - val_loss: 0.6952 - val_accuracy: 0.4699\n",
      "Epoch 4/200\n",
      "320/331 [============================>.] - ETA: 0s - loss: 0.6925 - accuracy: 0.5250\n",
      "Epoch 00004: val_loss improved from 0.69520 to 0.69424, saving model to ./model_save/2_5_4_0.6942_0.4699.h5\n",
      "331/331 [==============================] - 0s 842us/sample - loss: 0.6925 - accuracy: 0.5257 - val_loss: 0.6942 - val_accuracy: 0.4699\n",
      "Epoch 5/200\n",
      "290/331 [=========================>....] - ETA: 0s - loss: 0.6924 - accuracy: 0.5310\n",
      "Epoch 00005: val_loss improved from 0.69424 to 0.69409, saving model to ./model_save/2_5_5_0.6941_0.4819.h5\n",
      "331/331 [==============================] - 0s 870us/sample - loss: 0.6923 - accuracy: 0.5287 - val_loss: 0.6941 - val_accuracy: 0.4819\n",
      "Epoch 6/200\n",
      "290/331 [=========================>....] - ETA: 0s - loss: 0.6914 - accuracy: 0.5310\n",
      "Epoch 00006: val_loss improved from 0.69409 to 0.69381, saving model to ./model_save/2_5_6_0.6938_0.4819.h5\n",
      "331/331 [==============================] - 0s 862us/sample - loss: 0.6923 - accuracy: 0.5227 - val_loss: 0.6938 - val_accuracy: 0.4819\n",
      "Epoch 7/200\n",
      "325/331 [============================>.] - ETA: 0s - loss: 0.6925 - accuracy: 0.5046\n",
      "Epoch 00007: val_loss did not improve from 0.69381\n",
      "331/331 [==============================] - 0s 765us/sample - loss: 0.6921 - accuracy: 0.5106 - val_loss: 0.6947 - val_accuracy: 0.4819\n",
      "Epoch 8/200\n",
      "305/331 [==========================>...] - ETA: 0s - loss: 0.6905 - accuracy: 0.5475 ETA: 0s - loss: 0.6897 - accuracy: 0.56\n",
      "Epoch 00008: val_loss improved from 0.69381 to 0.69303, saving model to ./model_save/2_5_8_0.6930_0.4819.h5\n",
      "331/331 [==============================] - 0s 823us/sample - loss: 0.6918 - accuracy: 0.5287 - val_loss: 0.6930 - val_accuracy: 0.4819\n",
      "Epoch 9/200\n",
      "315/331 [===========================>..] - ETA: 0s - loss: 0.6917 - accuracy: 0.5238\n",
      "Epoch 00009: val_loss improved from 0.69303 to 0.69279, saving model to ./model_save/2_5_9_0.6928_0.4819.h5\n",
      "331/331 [==============================] - 0s 815us/sample - loss: 0.6915 - accuracy: 0.5227 - val_loss: 0.6928 - val_accuracy: 0.4819\n",
      "Epoch 10/200\n",
      "300/331 [==========================>...] - ETA: 0s - loss: 0.6897 - accuracy: 0.5233\n",
      "Epoch 00010: val_loss did not improve from 0.69279\n",
      "331/331 [==============================] - 0s 818us/sample - loss: 0.6913 - accuracy: 0.5076 - val_loss: 0.6928 - val_accuracy: 0.4940\n",
      "Epoch 11/200\n",
      "305/331 [==========================>...] - ETA: 0s - loss: 0.6914 - accuracy: 0.5148\n",
      "Epoch 00011: val_loss improved from 0.69279 to 0.69176, saving model to ./model_save/2_5_11_0.6918_0.4940.h5\n",
      "331/331 [==============================] - 0s 863us/sample - loss: 0.6913 - accuracy: 0.5166 - val_loss: 0.6918 - val_accuracy: 0.4940\n",
      "Epoch 12/200\n",
      "310/331 [===========================>..] - ETA: 0s - loss: 0.6910 - accuracy: 0.5323\n",
      "Epoch 00012: val_loss did not improve from 0.69176\n",
      "331/331 [==============================] - 0s 794us/sample - loss: 0.6912 - accuracy: 0.5317 - val_loss: 0.6924 - val_accuracy: 0.4819\n",
      "Epoch 13/200\n",
      "305/331 [==========================>...] - ETA: 0s - loss: 0.6915 - accuracy: 0.5213\n",
      "Epoch 00013: val_loss did not improve from 0.69176\n",
      "331/331 [==============================] - 0s 833us/sample - loss: 0.6908 - accuracy: 0.5317 - val_loss: 0.6918 - val_accuracy: 0.5060\n",
      "Epoch 14/200\n",
      "315/331 [===========================>..] - ETA: 0s - loss: 0.6905 - accuracy: 0.5270\n",
      "Epoch 00014: val_loss improved from 0.69176 to 0.69055, saving model to ./model_save/2_5_14_0.6906_0.5181.h5\n",
      "331/331 [==============================] - 0s 819us/sample - loss: 0.6907 - accuracy: 0.5257 - val_loss: 0.6906 - val_accuracy: 0.5181\n",
      "Epoch 15/200\n",
      "325/331 [============================>.] - ETA: 0s - loss: 0.6903 - accuracy: 0.5538\n",
      "Epoch 00015: val_loss did not improve from 0.69055\n",
      "331/331 [==============================] - 0s 762us/sample - loss: 0.6907 - accuracy: 0.5468 - val_loss: 0.6928 - val_accuracy: 0.4940\n",
      "Epoch 16/200\n",
      "295/331 [=========================>....] - ETA: 0s - loss: 0.6906 - accuracy: 0.5322\n",
      "Epoch 00016: val_loss did not improve from 0.69055\n",
      "331/331 [==============================] - 0s 823us/sample - loss: 0.6902 - accuracy: 0.5347 - val_loss: 0.6935 - val_accuracy: 0.4819\n",
      "Epoch 17/200\n",
      "265/331 [=======================>......] - ETA: 0s - loss: 0.6886 - accuracy: 0.5509\n",
      "Epoch 00017: val_loss did not improve from 0.69055\n",
      "331/331 [==============================] - 0s 860us/sample - loss: 0.6900 - accuracy: 0.5408 - val_loss: 0.6930 - val_accuracy: 0.4940\n",
      "Epoch 18/200\n",
      "300/331 [==========================>...] - ETA: 0s - loss: 0.6907 - accuracy: 0.5133\n",
      "Epoch 00018: val_loss did not improve from 0.69055\n",
      "331/331 [==============================] - 0s 805us/sample - loss: 0.6903 - accuracy: 0.5166 - val_loss: 0.6913 - val_accuracy: 0.5181\n",
      "Epoch 19/200\n",
      "330/331 [============================>.] - ETA: 0s - loss: 0.6899 - accuracy: 0.5273\n",
      "Epoch 00019: val_loss did not improve from 0.69055\n",
      "331/331 [==============================] - 0s 745us/sample - loss: 0.6898 - accuracy: 0.5287 - val_loss: 0.6929 - val_accuracy: 0.4819\n",
      "Epoch 20/200\n",
      "325/331 [============================>.] - ETA: 0s - loss: 0.6895 - accuracy: 0.5108\n",
      "Epoch 00020: val_loss did not improve from 0.69055\n",
      "331/331 [==============================] - 0s 748us/sample - loss: 0.6896 - accuracy: 0.5106 - val_loss: 0.6923 - val_accuracy: 0.4699\n",
      "Epoch 21/200\n",
      "325/331 [============================>.] - ETA: 0s - loss: 0.6888 - accuracy: 0.5415\n",
      "Epoch 00021: val_loss did not improve from 0.69055\n",
      "331/331 [==============================] - 0s 756us/sample - loss: 0.6891 - accuracy: 0.5378 - val_loss: 0.6937 - val_accuracy: 0.4940\n",
      "Epoch 22/200\n",
      "330/331 [============================>.] - ETA: 0s - loss: 0.6892 - accuracy: 0.5424 ETA: 0s - loss: 0.6941 - accuracy: 0.\n",
      "Epoch 00022: val_loss did not improve from 0.69055\n",
      "331/331 [==============================] - 0s 747us/sample - loss: 0.6894 - accuracy: 0.5408 - val_loss: 0.6921 - val_accuracy: 0.4699\n",
      "Epoch 23/200\n",
      "325/331 [============================>.] - ETA: 0s - loss: 0.6890 - accuracy: 0.5446\n",
      "Epoch 00023: val_loss did not improve from 0.69055\n",
      "331/331 [==============================] - 0s 773us/sample - loss: 0.6891 - accuracy: 0.5438 - val_loss: 0.6928 - val_accuracy: 0.4819\n",
      "Epoch 24/200\n",
      "305/331 [==========================>...] - ETA: 0s - loss: 0.6882 - accuracy: 0.5311\n",
      "Epoch 00024: val_loss did not improve from 0.69055\n",
      "331/331 [==============================] - 0s 783us/sample - loss: 0.6889 - accuracy: 0.5257 - val_loss: 0.6930 - val_accuracy: 0.4819\n",
      "Epoch 25/200\n",
      "320/331 [============================>.] - ETA: 0s - loss: 0.6873 - accuracy: 0.5656\n",
      "Epoch 00025: val_loss did not improve from 0.69055\n",
      "331/331 [==============================] - 0s 763us/sample - loss: 0.6889 - accuracy: 0.5559 - val_loss: 0.6917 - val_accuracy: 0.4819\n",
      "Epoch 26/200\n",
      "250/331 [=====================>........] - ETA: 0s - loss: 0.6898 - accuracy: 0.5480\n",
      "Epoch 00026: val_loss did not improve from 0.69055\n",
      "331/331 [==============================] - 0s 732us/sample - loss: 0.6881 - accuracy: 0.5589 - val_loss: 0.6962 - val_accuracy: 0.4819\n",
      "Epoch 27/200\n",
      "325/331 [============================>.] - ETA: 0s - loss: 0.6886 - accuracy: 0.5354\n",
      "Epoch 00027: val_loss did not improve from 0.69055\n",
      "331/331 [==============================] - 0s 761us/sample - loss: 0.6888 - accuracy: 0.5347 - val_loss: 0.6921 - val_accuracy: 0.4819\n"
     ]
    },
    {
     "name": "stdout",
     "output_type": "stream",
     "text": [
      "Epoch 28/200\n",
      "320/331 [============================>.] - ETA: 0s - loss: 0.6896 - accuracy: 0.5188\n",
      "Epoch 00028: val_loss did not improve from 0.69055\n",
      "331/331 [==============================] - 0s 768us/sample - loss: 0.6887 - accuracy: 0.5257 - val_loss: 0.6912 - val_accuracy: 0.4940\n",
      "Epoch 29/200\n",
      "325/331 [============================>.] - ETA: 0s - loss: 0.6882 - accuracy: 0.5323\n",
      "Epoch 00029: val_loss did not improve from 0.69055\n",
      "331/331 [==============================] - 0s 757us/sample - loss: 0.6882 - accuracy: 0.5317 - val_loss: 0.6915 - val_accuracy: 0.4819\n",
      "Epoch 30/200\n",
      "320/331 [============================>.] - ETA: 0s - loss: 0.6889 - accuracy: 0.5312\n",
      "Epoch 00030: val_loss did not improve from 0.69055\n",
      "331/331 [==============================] - 0s 768us/sample - loss: 0.6886 - accuracy: 0.5317 - val_loss: 0.6918 - val_accuracy: 0.4819\n",
      "Epoch 31/200\n",
      "255/331 [======================>.......] - ETA: 0s - loss: 0.6843 - accuracy: 0.5333 ETA: 0s - loss: 0.6793 - accuracy: 0.56\n",
      "Epoch 00031: val_loss improved from 0.69055 to 0.68874, saving model to ./model_save/2_5_31_0.6887_0.5301.h5\n",
      "331/331 [==============================] - 0s 753us/sample - loss: 0.6871 - accuracy: 0.5196 - val_loss: 0.6887 - val_accuracy: 0.5301\n",
      "Epoch 32/200\n",
      "330/331 [============================>.] - ETA: 0s - loss: 0.6872 - accuracy: 0.5333 ETA: 0s - loss: 0.6868 - accuracy: 0.\n",
      "Epoch 00032: val_loss improved from 0.68874 to 0.68561, saving model to ./model_save/2_5_32_0.6856_0.5542.h5\n",
      "331/331 [==============================] - 0s 769us/sample - loss: 0.6876 - accuracy: 0.5317 - val_loss: 0.6856 - val_accuracy: 0.5542\n",
      "Epoch 33/200\n",
      "320/331 [============================>.] - ETA: 0s - loss: 0.6883 - accuracy: 0.5562 ETA: 0s - loss: 0.6833 - accuracy: 0.\n",
      "Epoch 00033: val_loss improved from 0.68561 to 0.68536, saving model to ./model_save/2_5_33_0.6854_0.5542.h5\n",
      "331/331 [==============================] - 0s 787us/sample - loss: 0.6884 - accuracy: 0.5559 - val_loss: 0.6854 - val_accuracy: 0.5542\n",
      "Epoch 34/200\n",
      "255/331 [======================>.......] - ETA: 0s - loss: 0.6850 - accuracy: 0.5882\n",
      "Epoch 00034: val_loss did not improve from 0.68536\n",
      "331/331 [==============================] - 0s 710us/sample - loss: 0.6879 - accuracy: 0.5770 - val_loss: 0.6878 - val_accuracy: 0.5422\n",
      "Epoch 35/200\n",
      "255/331 [======================>.......] - ETA: 0s - loss: 0.6927 - accuracy: 0.5412 ETA: 0s - loss: 0.6867 - accuracy: 0.\n",
      "Epoch 00035: val_loss did not improve from 0.68536\n",
      "331/331 [==============================] - 0s 742us/sample - loss: 0.6878 - accuracy: 0.5559 - val_loss: 0.6885 - val_accuracy: 0.5422\n",
      "Epoch 36/200\n",
      "285/331 [========================>.....] - ETA: 0s - loss: 0.6872 - accuracy: 0.5579\n",
      "Epoch 00036: val_loss did not improve from 0.68536\n",
      "331/331 [==============================] - 0s 838us/sample - loss: 0.6880 - accuracy: 0.5529 - val_loss: 0.6910 - val_accuracy: 0.4940\n",
      "Epoch 37/200\n",
      "255/331 [======================>.......] - ETA: 0s - loss: 0.6846 - accuracy: 0.5333\n",
      "Epoch 00037: val_loss did not improve from 0.68536\n",
      "331/331 [==============================] - 0s 729us/sample - loss: 0.6872 - accuracy: 0.5317 - val_loss: 0.6901 - val_accuracy: 0.5301\n",
      "Epoch 38/200\n",
      "255/331 [======================>.......] - ETA: 0s - loss: 0.6890 - accuracy: 0.5333\n",
      "Epoch 00038: val_loss improved from 0.68536 to 0.68283, saving model to ./model_save/2_5_38_0.6828_0.5663.h5\n",
      "331/331 [==============================] - 0s 749us/sample - loss: 0.6861 - accuracy: 0.5317 - val_loss: 0.6828 - val_accuracy: 0.5663\n",
      "Epoch 39/200\n",
      "255/331 [======================>.......] - ETA: 0s - loss: 0.6852 - accuracy: 0.5882\n",
      "Epoch 00039: val_loss did not improve from 0.68283\n",
      "331/331 [==============================] - 0s 714us/sample - loss: 0.6874 - accuracy: 0.5770 - val_loss: 0.6865 - val_accuracy: 0.5542\n",
      "Epoch 40/200\n",
      "250/331 [=====================>........] - ETA: 0s - loss: 0.6776 - accuracy: 0.5920\n",
      "Epoch 00040: val_loss did not improve from 0.68283\n",
      "331/331 [==============================] - 0s 734us/sample - loss: 0.6876 - accuracy: 0.5770 - val_loss: 0.6881 - val_accuracy: 0.5422\n",
      "Epoch 41/200\n",
      "315/331 [===========================>..] - ETA: 0s - loss: 0.6884 - accuracy: 0.5365\n",
      "Epoch 00041: val_loss did not improve from 0.68283\n",
      "331/331 [==============================] - 0s 787us/sample - loss: 0.6866 - accuracy: 0.5529 - val_loss: 0.6912 - val_accuracy: 0.4819\n",
      "Epoch 42/200\n",
      "325/331 [============================>.] - ETA: 0s - loss: 0.6865 - accuracy: 0.5354\n",
      "Epoch 00042: val_loss did not improve from 0.68283\n",
      "331/331 [==============================] - 0s 770us/sample - loss: 0.6866 - accuracy: 0.5378 - val_loss: 0.6874 - val_accuracy: 0.5663\n",
      "Epoch 43/200\n",
      "285/331 [========================>.....] - ETA: 0s - loss: 0.6859 - accuracy: 0.5474\n",
      "Epoch 00043: val_loss did not improve from 0.68283\n",
      "331/331 [==============================] - 0s 1ms/sample - loss: 0.6863 - accuracy: 0.5529 - val_loss: 0.6843 - val_accuracy: 0.5542\n",
      "Epoch 44/200\n",
      "275/331 [=======================>......] - ETA: 0s - loss: 0.6835 - accuracy: 0.5891\n",
      "Epoch 00044: val_loss did not improve from 0.68283\n",
      "331/331 [==============================] - 0s 932us/sample - loss: 0.6863 - accuracy: 0.5619 - val_loss: 0.6914 - val_accuracy: 0.5301\n",
      "Epoch 45/200\n",
      "310/331 [===========================>..] - ETA: 0s - loss: 0.6890 - accuracy: 0.5419\n",
      "Epoch 00045: val_loss did not improve from 0.68283\n",
      "331/331 [==============================] - 0s 985us/sample - loss: 0.6861 - accuracy: 0.5559 - val_loss: 0.6917 - val_accuracy: 0.5181\n",
      "Epoch 46/200\n",
      "305/331 [==========================>...] - ETA: 0s - loss: 0.6849 - accuracy: 0.5508\n",
      "Epoch 00046: val_loss improved from 0.68283 to 0.68121, saving model to ./model_save/2_5_46_0.6812_0.5542.h5\n",
      "331/331 [==============================] - 0s 1ms/sample - loss: 0.6855 - accuracy: 0.5408 - val_loss: 0.6812 - val_accuracy: 0.5542\n",
      "Epoch 47/200\n",
      "320/331 [============================>.] - ETA: 0s - loss: 0.6848 - accuracy: 0.5781\n",
      "Epoch 00047: val_loss did not improve from 0.68121\n",
      "331/331 [==============================] - 0s 995us/sample - loss: 0.6854 - accuracy: 0.5801 - val_loss: 0.6907 - val_accuracy: 0.5301\n",
      "Epoch 48/200\n",
      "300/331 [==========================>...] - ETA: 0s - loss: 0.6831 - accuracy: 0.5667\n",
      "Epoch 00048: val_loss improved from 0.68121 to 0.68043, saving model to ./model_save/2_5_48_0.6804_0.5422.h5\n",
      "331/331 [==============================] - 0s 1ms/sample - loss: 0.6839 - accuracy: 0.5559 - val_loss: 0.6804 - val_accuracy: 0.5422\n",
      "Epoch 49/200\n",
      "305/331 [==========================>...] - ETA: 0s - loss: 0.6834 - accuracy: 0.5738\n",
      "Epoch 00049: val_loss did not improve from 0.68043\n",
      "331/331 [==============================] - 0s 1ms/sample - loss: 0.6846 - accuracy: 0.5710 - val_loss: 0.6826 - val_accuracy: 0.5542\n",
      "Epoch 50/200\n",
      "295/331 [=========================>....] - ETA: 0s - loss: 0.6791 - accuracy: 0.5864\n",
      "Epoch 00050: val_loss improved from 0.68043 to 0.67512, saving model to ./model_save/2_5_50_0.6751_0.5422.h5\n",
      "331/331 [==============================] - 0s 1ms/sample - loss: 0.6816 - accuracy: 0.5861 - val_loss: 0.6751 - val_accuracy: 0.5422\n",
      "Epoch 51/200\n",
      "300/331 [==========================>...] - ETA: 0s - loss: 0.6857 - accuracy: 0.5800\n",
      "Epoch 00051: val_loss did not improve from 0.67512\n",
      "331/331 [==============================] - 0s 1ms/sample - loss: 0.6830 - accuracy: 0.5921 - val_loss: 0.6949 - val_accuracy: 0.5060\n",
      "Epoch 52/200\n",
      "310/331 [===========================>..] - ETA: 0s - loss: 0.6823 - accuracy: 0.5452\n",
      "Epoch 00052: val_loss did not improve from 0.67512\n",
      "331/331 [==============================] - 0s 1ms/sample - loss: 0.6819 - accuracy: 0.5468 - val_loss: 0.6961 - val_accuracy: 0.5060\n",
      "Epoch 53/200\n",
      "315/331 [===========================>..] - ETA: 0s - loss: 0.6837 - accuracy: 0.5587\n",
      "Epoch 00053: val_loss did not improve from 0.67512\n",
      "331/331 [==============================] - 0s 1ms/sample - loss: 0.6845 - accuracy: 0.5498 - val_loss: 0.6882 - val_accuracy: 0.5542\n",
      "Epoch 54/200\n",
      "290/331 [=========================>....] - ETA: 0s - loss: 0.6839 - accuracy: 0.5586\n",
      "Epoch 00054: val_loss did not improve from 0.67512\n",
      "331/331 [==============================] - 0s 1ms/sample - loss: 0.6829 - accuracy: 0.5468 - val_loss: 0.6879 - val_accuracy: 0.5542\n"
     ]
    },
    {
     "name": "stdout",
     "output_type": "stream",
     "text": [
      "Epoch 55/200\n",
      "315/331 [===========================>..] - ETA: 0s - loss: 0.6812 - accuracy: 0.5651\n",
      "Epoch 00055: val_loss did not improve from 0.67512\n",
      "331/331 [==============================] - 0s 1ms/sample - loss: 0.6821 - accuracy: 0.5589 - val_loss: 0.6795 - val_accuracy: 0.5663\n",
      "Epoch 56/200\n",
      "290/331 [=========================>....] - ETA: 0s - loss: 0.6841 - accuracy: 0.5862\n",
      "Epoch 00056: val_loss did not improve from 0.67512\n",
      "331/331 [==============================] - 0s 1ms/sample - loss: 0.6818 - accuracy: 0.5801 - val_loss: 0.6788 - val_accuracy: 0.5904\n",
      "Epoch 57/200\n",
      "290/331 [=========================>....] - ETA: 0s - loss: 0.6853 - accuracy: 0.5448\n",
      "Epoch 00057: val_loss did not improve from 0.67512\n",
      "331/331 [==============================] - 0s 1ms/sample - loss: 0.6809 - accuracy: 0.5468 - val_loss: 0.6804 - val_accuracy: 0.5904\n",
      "Epoch 58/200\n",
      "305/331 [==========================>...] - ETA: 0s - loss: 0.6794 - accuracy: 0.5607\n",
      "Epoch 00058: val_loss did not improve from 0.67512\n",
      "331/331 [==============================] - 0s 1ms/sample - loss: 0.6811 - accuracy: 0.5589 - val_loss: 0.6912 - val_accuracy: 0.5542\n",
      "Epoch 59/200\n",
      "290/331 [=========================>....] - ETA: 0s - loss: 0.6792 - accuracy: 0.5931\n",
      "Epoch 00059: val_loss did not improve from 0.67512\n",
      "331/331 [==============================] - 0s 1ms/sample - loss: 0.6793 - accuracy: 0.5831 - val_loss: 0.6813 - val_accuracy: 0.5663\n",
      "Epoch 60/200\n",
      "280/331 [========================>.....] - ETA: 0s - loss: 0.6801 - accuracy: 0.5571\n",
      "Epoch 00060: val_loss did not improve from 0.67512\n",
      "331/331 [==============================] - 0s 1ms/sample - loss: 0.6804 - accuracy: 0.5589 - val_loss: 0.6757 - val_accuracy: 0.5301\n",
      "Epoch 61/200\n",
      "295/331 [=========================>....] - ETA: 0s - loss: 0.6816 - accuracy: 0.5797\n",
      "Epoch 00061: val_loss did not improve from 0.67512\n",
      "331/331 [==============================] - 0s 1ms/sample - loss: 0.6787 - accuracy: 0.5982 - val_loss: 0.6829 - val_accuracy: 0.5542\n",
      "Epoch 62/200\n",
      "285/331 [========================>.....] - ETA: 0s - loss: 0.6751 - accuracy: 0.5754\n",
      "Epoch 00062: val_loss improved from 0.67512 to 0.67048, saving model to ./model_save/2_5_62_0.6705_0.5542.h5\n",
      "331/331 [==============================] - 0s 919us/sample - loss: 0.6770 - accuracy: 0.5680 - val_loss: 0.6705 - val_accuracy: 0.5542\n",
      "Epoch 63/200\n",
      "300/331 [==========================>...] - ETA: 0s - loss: 0.6850 - accuracy: 0.6100\n",
      "Epoch 00063: val_loss did not improve from 0.67048\n",
      "331/331 [==============================] - 0s 823us/sample - loss: 0.6804 - accuracy: 0.6103 - val_loss: 0.6911 - val_accuracy: 0.5783\n",
      "Epoch 64/200\n",
      "295/331 [=========================>....] - ETA: 0s - loss: 0.6712 - accuracy: 0.5898\n",
      "Epoch 00064: val_loss did not improve from 0.67048\n",
      "331/331 [==============================] - 0s 854us/sample - loss: 0.6770 - accuracy: 0.5861 - val_loss: 0.7049 - val_accuracy: 0.5181\n",
      "Epoch 65/200\n",
      "280/331 [========================>.....] - ETA: 0s - loss: 0.6830 - accuracy: 0.5607\n",
      "Epoch 00065: val_loss improved from 0.67048 to 0.66992, saving model to ./model_save/2_5_65_0.6699_0.5422.h5\n",
      "331/331 [==============================] - 0s 936us/sample - loss: 0.6748 - accuracy: 0.5831 - val_loss: 0.6699 - val_accuracy: 0.5422\n",
      "Epoch 66/200\n",
      "285/331 [========================>.....] - ETA: 0s - loss: 0.6822 - accuracy: 0.5825\n",
      "Epoch 00066: val_loss improved from 0.66992 to 0.66880, saving model to ./model_save/2_5_66_0.6688_0.5904.h5\n",
      "331/331 [==============================] - 0s 935us/sample - loss: 0.6787 - accuracy: 0.5831 - val_loss: 0.6688 - val_accuracy: 0.5904\n",
      "Epoch 67/200\n",
      "315/331 [===========================>..] - ETA: 0s - loss: 0.6745 - accuracy: 0.5968\n",
      "Epoch 00067: val_loss did not improve from 0.66880\n",
      "331/331 [==============================] - 0s 981us/sample - loss: 0.6773 - accuracy: 0.5861 - val_loss: 0.6807 - val_accuracy: 0.5663\n",
      "Epoch 68/200\n",
      "300/331 [==========================>...] - ETA: 0s - loss: 0.6764 - accuracy: 0.5767\n",
      "Epoch 00068: val_loss did not improve from 0.66880\n",
      "331/331 [==============================] - 0s 1ms/sample - loss: 0.6757 - accuracy: 0.5740 - val_loss: 0.6888 - val_accuracy: 0.5783\n",
      "Epoch 69/200\n",
      "320/331 [============================>.] - ETA: 0s - loss: 0.6659 - accuracy: 0.5719\n",
      "Epoch 00069: val_loss did not improve from 0.66880\n",
      "331/331 [==============================] - 0s 953us/sample - loss: 0.6745 - accuracy: 0.5589 - val_loss: 0.6849 - val_accuracy: 0.5783\n",
      "Epoch 70/200\n",
      "330/331 [============================>.] - ETA: 0s - loss: 0.6710 - accuracy: 0.5879\n",
      "Epoch 00070: val_loss did not improve from 0.66880\n",
      "331/331 [==============================] - 0s 1ms/sample - loss: 0.6703 - accuracy: 0.5891 - val_loss: 0.7086 - val_accuracy: 0.5181\n",
      "Epoch 71/200\n",
      "330/331 [============================>.] - ETA: 0s - loss: 0.6757 - accuracy: 0.5788\n",
      "Epoch 00071: val_loss did not improve from 0.66880\n",
      "331/331 [==============================] - 0s 953us/sample - loss: 0.6760 - accuracy: 0.5770 - val_loss: 0.6750 - val_accuracy: 0.5301\n",
      "Epoch 72/200\n",
      "275/331 [=======================>......] - ETA: 0s - loss: 0.6725 - accuracy: 0.5782\n",
      "Epoch 00072: val_loss did not improve from 0.66880\n",
      "331/331 [==============================] - 0s 884us/sample - loss: 0.6684 - accuracy: 0.5831 - val_loss: 0.6832 - val_accuracy: 0.5904\n",
      "Epoch 73/200\n",
      "285/331 [========================>.....] - ETA: 0s - loss: 0.6718 - accuracy: 0.5719\n",
      "Epoch 00073: val_loss did not improve from 0.66880\n",
      "331/331 [==============================] - 0s 883us/sample - loss: 0.6707 - accuracy: 0.5710 - val_loss: 0.6912 - val_accuracy: 0.5783\n",
      "Epoch 74/200\n",
      "295/331 [=========================>....] - ETA: 0s - loss: 0.6667 - accuracy: 0.5966\n",
      "Epoch 00074: val_loss did not improve from 0.66880\n",
      "331/331 [==============================] - 0s 830us/sample - loss: 0.6711 - accuracy: 0.5831 - val_loss: 0.6788 - val_accuracy: 0.5181\n",
      "Epoch 75/200\n",
      "305/331 [==========================>...] - ETA: 0s - loss: 0.6758 - accuracy: 0.5508\n",
      "Epoch 00075: val_loss did not improve from 0.66880\n",
      "331/331 [==============================] - 0s 820us/sample - loss: 0.6696 - accuracy: 0.5740 - val_loss: 0.6718 - val_accuracy: 0.5663\n",
      "Epoch 76/200\n",
      "305/331 [==========================>...] - ETA: 0s - loss: 0.6695 - accuracy: 0.5803\n",
      "Epoch 00076: val_loss did not improve from 0.66880\n",
      "331/331 [==============================] - 0s 820us/sample - loss: 0.6709 - accuracy: 0.5740 - val_loss: 0.6746 - val_accuracy: 0.4940\n",
      "Epoch 77/200\n",
      "305/331 [==========================>...] - ETA: 0s - loss: 0.6589 - accuracy: 0.5869\n",
      "Epoch 00077: val_loss did not improve from 0.66880\n",
      "331/331 [==============================] - 0s 823us/sample - loss: 0.6701 - accuracy: 0.5770 - val_loss: 0.6754 - val_accuracy: 0.4940\n",
      "Epoch 78/200\n",
      "300/331 [==========================>...] - ETA: 0s - loss: 0.6685 - accuracy: 0.6100\n",
      "Epoch 00078: val_loss did not improve from 0.66880\n",
      "331/331 [==============================] - 0s 829us/sample - loss: 0.6671 - accuracy: 0.6133 - val_loss: 0.6843 - val_accuracy: 0.5181\n",
      "Epoch 79/200\n",
      "305/331 [==========================>...] - ETA: 0s - loss: 0.6672 - accuracy: 0.5443\n",
      "Epoch 00079: val_loss did not improve from 0.66880\n",
      "331/331 [==============================] - 0s 808us/sample - loss: 0.6667 - accuracy: 0.5559 - val_loss: 0.6927 - val_accuracy: 0.5663\n",
      "Epoch 80/200\n",
      "325/331 [============================>.] - ETA: 0s - loss: 0.6606 - accuracy: 0.6062\n",
      "Epoch 00080: val_loss did not improve from 0.66880\n",
      "331/331 [==============================] - 0s 785us/sample - loss: 0.6635 - accuracy: 0.6073 - val_loss: 0.7090 - val_accuracy: 0.5422\n",
      "Epoch 81/200\n",
      "275/331 [=======================>......] - ETA: 0s - loss: 0.6696 - accuracy: 0.6000\n",
      "Epoch 00081: val_loss did not improve from 0.66880\n",
      "331/331 [==============================] - 0s 934us/sample - loss: 0.6678 - accuracy: 0.6012 - val_loss: 0.6726 - val_accuracy: 0.6024\n",
      "Epoch 82/200\n",
      "305/331 [==========================>...] - ETA: 0s - loss: 0.6583 - accuracy: 0.5967\n",
      "Epoch 00082: val_loss did not improve from 0.66880\n",
      "331/331 [==============================] - 0s 849us/sample - loss: 0.6625 - accuracy: 0.5831 - val_loss: 0.6817 - val_accuracy: 0.5181\n",
      "Epoch 83/200\n",
      "305/331 [==========================>...] - ETA: 0s - loss: 0.6645 - accuracy: 0.5836\n",
      "Epoch 00083: val_loss did not improve from 0.66880\n",
      "331/331 [==============================] - 0s 817us/sample - loss: 0.6648 - accuracy: 0.5861 - val_loss: 0.7184 - val_accuracy: 0.5301\n",
      "Epoch 84/200\n",
      "285/331 [========================>.....] - ETA: 0s - loss: 0.6628 - accuracy: 0.5895\n",
      "Epoch 00084: val_loss did not improve from 0.66880\n",
      "331/331 [==============================] - 0s 869us/sample - loss: 0.6629 - accuracy: 0.5921 - val_loss: 0.6738 - val_accuracy: 0.5783\n",
      "Epoch 85/200\n",
      "285/331 [========================>.....] - ETA: 0s - loss: 0.6667 - accuracy: 0.5825\n",
      "Epoch 00085: val_loss did not improve from 0.66880\n",
      "331/331 [==============================] - 0s 887us/sample - loss: 0.6655 - accuracy: 0.5861 - val_loss: 0.6748 - val_accuracy: 0.5663\n",
      "Epoch 86/200\n",
      "285/331 [========================>.....] - ETA: 0s - loss: 0.6656 - accuracy: 0.5930\n",
      "Epoch 00086: val_loss did not improve from 0.66880\n",
      "331/331 [==============================] - 0s 885us/sample - loss: 0.6620 - accuracy: 0.6042 - val_loss: 0.7018 - val_accuracy: 0.5542\n"
     ]
    }
   ],
   "source": [
    "history = model.fit(X_train, Y_train,                     \n",
    "                    validation_data=(X_valid, Y_valid), \n",
    "                    epochs=200, \n",
    "                    batch_size=5, \n",
    "                    callbacks=[early_stop, checkpoint])"
   ]
  },
  {
   "cell_type": "code",
   "execution_count": 55,
   "metadata": {},
   "outputs": [
    {
     "data": {
      "text/plain": [
       "<tensorflow.python.keras.callbacks.History at 0x1ddcc594390>"
      ]
     },
     "execution_count": 55,
     "metadata": {},
     "output_type": "execute_result"
    }
   ],
   "source": [
    "history"
   ]
  },
  {
   "cell_type": "code",
   "execution_count": 56,
   "metadata": {
    "scrolled": true
   },
   "outputs": [
    {
     "name": "stdout",
     "output_type": "stream",
     "text": [
      "414/414 [==============================] - 0s 64us/sample - loss: 0.6653 - accuracy: 0.5845\n",
      "\n",
      "Accuracy : 0.5845\n"
     ]
    }
   ],
   "source": [
    "print(\"\\nAccuracy : %.4f\"%(model.evaluate(train_feature,train_class)[1]))"
   ]
  },
  {
   "cell_type": "code",
   "execution_count": 57,
   "metadata": {
    "scrolled": true
   },
   "outputs": [
    {
     "name": "stdout",
     "output_type": "stream",
     "text": [
      "175/175 [==============================] - 0s 78us/sample - loss: 0.7648 - accuracy: 0.5486\n",
      "\n",
      "Accuracy : 0.5486\n"
     ]
    }
   ],
   "source": [
    "print(\"\\nAccuracy : %.4f\"%(model.evaluate(test_feature,test_class)[1]))"
   ]
  },
  {
   "cell_type": "markdown",
   "metadata": {},
   "source": [
    "테스트 셋에서 50%를 넘겼다. 후보 2"
   ]
  },
  {
   "cell_type": "markdown",
   "metadata": {},
   "source": [
    "파일 이름  \n",
    "2_5_66_0.6688_0.5904.h5"
   ]
  },
  {
   "cell_type": "markdown",
   "metadata": {},
   "source": [
    "# 딥러닝 결과 저장(history 저장)"
   ]
  },
  {
   "cell_type": "code",
   "execution_count": 58,
   "metadata": {},
   "outputs": [
    {
     "data": {
      "text/html": [
       "<div>\n",
       "<style scoped>\n",
       "    .dataframe tbody tr th:only-of-type {\n",
       "        vertical-align: middle;\n",
       "    }\n",
       "\n",
       "    .dataframe tbody tr th {\n",
       "        vertical-align: top;\n",
       "    }\n",
       "\n",
       "    .dataframe thead th {\n",
       "        text-align: right;\n",
       "    }\n",
       "</style>\n",
       "<table border=\"1\" class=\"dataframe\">\n",
       "  <thead>\n",
       "    <tr style=\"text-align: right;\">\n",
       "      <th></th>\n",
       "      <th>loss</th>\n",
       "      <th>accuracy</th>\n",
       "      <th>val_loss</th>\n",
       "      <th>val_accuracy</th>\n",
       "    </tr>\n",
       "  </thead>\n",
       "  <tbody>\n",
       "    <tr>\n",
       "      <th>0</th>\n",
       "      <td>0.693277</td>\n",
       "      <td>0.516616</td>\n",
       "      <td>0.696440</td>\n",
       "      <td>0.457831</td>\n",
       "    </tr>\n",
       "    <tr>\n",
       "      <th>1</th>\n",
       "      <td>0.692971</td>\n",
       "      <td>0.519637</td>\n",
       "      <td>0.696657</td>\n",
       "      <td>0.457831</td>\n",
       "    </tr>\n",
       "    <tr>\n",
       "      <th>2</th>\n",
       "      <td>0.692715</td>\n",
       "      <td>0.516616</td>\n",
       "      <td>0.695201</td>\n",
       "      <td>0.469880</td>\n",
       "    </tr>\n",
       "    <tr>\n",
       "      <th>3</th>\n",
       "      <td>0.692493</td>\n",
       "      <td>0.525680</td>\n",
       "      <td>0.694241</td>\n",
       "      <td>0.469880</td>\n",
       "    </tr>\n",
       "    <tr>\n",
       "      <th>4</th>\n",
       "      <td>0.692336</td>\n",
       "      <td>0.528701</td>\n",
       "      <td>0.694093</td>\n",
       "      <td>0.481928</td>\n",
       "    </tr>\n",
       "    <tr>\n",
       "      <th>...</th>\n",
       "      <td>...</td>\n",
       "      <td>...</td>\n",
       "      <td>...</td>\n",
       "      <td>...</td>\n",
       "    </tr>\n",
       "    <tr>\n",
       "      <th>81</th>\n",
       "      <td>0.662484</td>\n",
       "      <td>0.583082</td>\n",
       "      <td>0.681699</td>\n",
       "      <td>0.518072</td>\n",
       "    </tr>\n",
       "    <tr>\n",
       "      <th>82</th>\n",
       "      <td>0.664815</td>\n",
       "      <td>0.586103</td>\n",
       "      <td>0.718380</td>\n",
       "      <td>0.530120</td>\n",
       "    </tr>\n",
       "    <tr>\n",
       "      <th>83</th>\n",
       "      <td>0.662867</td>\n",
       "      <td>0.592145</td>\n",
       "      <td>0.673760</td>\n",
       "      <td>0.578313</td>\n",
       "    </tr>\n",
       "    <tr>\n",
       "      <th>84</th>\n",
       "      <td>0.665501</td>\n",
       "      <td>0.586103</td>\n",
       "      <td>0.674771</td>\n",
       "      <td>0.566265</td>\n",
       "    </tr>\n",
       "    <tr>\n",
       "      <th>85</th>\n",
       "      <td>0.661989</td>\n",
       "      <td>0.604230</td>\n",
       "      <td>0.701763</td>\n",
       "      <td>0.554217</td>\n",
       "    </tr>\n",
       "  </tbody>\n",
       "</table>\n",
       "<p>86 rows × 4 columns</p>\n",
       "</div>"
      ],
      "text/plain": [
       "        loss  accuracy  val_loss  val_accuracy\n",
       "0   0.693277  0.516616  0.696440      0.457831\n",
       "1   0.692971  0.519637  0.696657      0.457831\n",
       "2   0.692715  0.516616  0.695201      0.469880\n",
       "3   0.692493  0.525680  0.694241      0.469880\n",
       "4   0.692336  0.528701  0.694093      0.481928\n",
       "..       ...       ...       ...           ...\n",
       "81  0.662484  0.583082  0.681699      0.518072\n",
       "82  0.664815  0.586103  0.718380      0.530120\n",
       "83  0.662867  0.592145  0.673760      0.578313\n",
       "84  0.665501  0.586103  0.674771      0.566265\n",
       "85  0.661989  0.604230  0.701763      0.554217\n",
       "\n",
       "[86 rows x 4 columns]"
      ]
     },
     "execution_count": 58,
     "metadata": {},
     "output_type": "execute_result"
    }
   ],
   "source": [
    "result=pd.DataFrame(history.history)\n",
    "result"
   ]
  },
  {
   "cell_type": "code",
   "execution_count": 59,
   "metadata": {},
   "outputs": [
    {
     "name": "stdout",
     "output_type": "stream",
     "text": [
      "딥러닝 결과를 csv 타입으로 저장할 경로와 파일명은? (예 : D:\\ai\\Final\\history\\result_1.csv) : D:\\ai\\Final\\history\\result_2.csv\n"
     ]
    }
   ],
   "source": [
    "file_name=input(\"딥러닝 결과를 csv 타입으로 저장할 경로와 파일명은? (예 : D:\\\\ai\\\\Final\\\\history\\\\result_1.csv) : \")\n",
    "\n",
    "result.to_csv(file_name,encoding='utf-8-sig',index=False)"
   ]
  },
  {
   "cell_type": "code",
   "execution_count": null,
   "metadata": {},
   "outputs": [],
   "source": []
  }
 ],
 "metadata": {
  "kernelspec": {
   "display_name": "Python 3",
   "language": "python",
   "name": "python3"
  },
  "language_info": {
   "codemirror_mode": {
    "name": "ipython",
    "version": 3
   },
   "file_extension": ".py",
   "mimetype": "text/x-python",
   "name": "python",
   "nbconvert_exporter": "python",
   "pygments_lexer": "ipython3",
   "version": "3.6.12"
  }
 },
 "nbformat": 4,
 "nbformat_minor": 4
}
