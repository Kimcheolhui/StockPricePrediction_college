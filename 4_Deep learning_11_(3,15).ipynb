{
 "cells": [
  {
   "cell_type": "markdown",
   "metadata": {},
   "source": [
    "<span style='font-size:150%'>딥러닝 수행 (10점) - TensorFlow, Keras를 활용하여 딥러닝 수행</span>   \n",
    "  \n",
    "다양한 방식으로 딥러닝을 수행한 코딩을 모두 제출할 것    \n",
    "   \n",
    "파일명 : 4_Deep learning_1.ipynb   \n",
    "   \n",
    "(여러개의 파일을 사용한 경우 Deep learning_2.ipynb, Deep learning_3.ipynb...)   "
   ]
  },
  {
   "cell_type": "code",
   "execution_count": 1,
   "metadata": {},
   "outputs": [],
   "source": [
    "import numpy as np\n",
    "import pandas as pd\n",
    "\n",
    "import os\n",
    "import matplotlib.pyplot as plt\n",
    "import matplotlib.font_manager\n",
    "\n",
    "import tensorflow as tf\n",
    "from sklearn.model_selection import train_test_split\n",
    "from tensorflow.keras.models import Sequential\n",
    "from tensorflow.keras.layers import Dense, LSTM\n",
    "from tensorflow.keras.callbacks import EarlyStopping, ModelCheckpoint\n",
    "\n",
    "seed=0\n",
    "np.random.seed(3)\n",
    "tf.random.set_seed(3)"
   ]
  },
  {
   "cell_type": "code",
   "execution_count": 2,
   "metadata": {},
   "outputs": [
    {
     "data": {
      "text/plain": [
       "'D:\\\\ai\\\\Final'"
      ]
     },
     "execution_count": 2,
     "metadata": {},
     "output_type": "execute_result"
    }
   ],
   "source": [
    "import os\n",
    "os.getcwd()"
   ]
  },
  {
   "cell_type": "markdown",
   "metadata": {},
   "source": [
    "# 데이터\n",
    "Data_set_1 : 종가,시가, 고가, 저가, 거래량, 변동 데이터가 담김. 아직 클래스 데이터 문자 형태  \n",
    "Data_set_2 : 기존 속성 데이터들을 속성들 간의 차로 변경. 스케일링됨. 클래스 데이터 숫자 형태  "
   ]
  },
  {
   "cell_type": "code",
   "execution_count": 3,
   "metadata": {},
   "outputs": [],
   "source": [
    "# 데이터 불러오기\n",
    "\n",
    "# 일반 데이터\n",
    "data_set=pd.read_csv(\"D:/ai/Final/Data set_2.csv\")"
   ]
  },
  {
   "cell_type": "code",
   "execution_count": 4,
   "metadata": {},
   "outputs": [
    {
     "data": {
      "text/html": [
       "<div>\n",
       "<style scoped>\n",
       "    .dataframe tbody tr th:only-of-type {\n",
       "        vertical-align: middle;\n",
       "    }\n",
       "\n",
       "    .dataframe tbody tr th {\n",
       "        vertical-align: top;\n",
       "    }\n",
       "\n",
       "    .dataframe thead th {\n",
       "        text-align: right;\n",
       "    }\n",
       "</style>\n",
       "<table border=\"1\" class=\"dataframe\">\n",
       "  <thead>\n",
       "    <tr style=\"text-align: right;\">\n",
       "      <th></th>\n",
       "      <th>close-start</th>\n",
       "      <th>high-low</th>\n",
       "      <th>high-close</th>\n",
       "      <th>high-start</th>\n",
       "      <th>close-low</th>\n",
       "      <th>start-low</th>\n",
       "      <th>volume</th>\n",
       "      <th>Diff</th>\n",
       "    </tr>\n",
       "  </thead>\n",
       "  <tbody>\n",
       "    <tr>\n",
       "      <th>0</th>\n",
       "      <td>0.541985</td>\n",
       "      <td>0.033708</td>\n",
       "      <td>0.067568</td>\n",
       "      <td>0.084337</td>\n",
       "      <td>0.051282</td>\n",
       "      <td>0.024390</td>\n",
       "      <td>0.111197</td>\n",
       "      <td>0</td>\n",
       "    </tr>\n",
       "    <tr>\n",
       "      <th>1</th>\n",
       "      <td>0.465649</td>\n",
       "      <td>0.168539</td>\n",
       "      <td>0.121622</td>\n",
       "      <td>0.012048</td>\n",
       "      <td>0.153846</td>\n",
       "      <td>0.243902</td>\n",
       "      <td>0.123828</td>\n",
       "      <td>1</td>\n",
       "    </tr>\n",
       "    <tr>\n",
       "      <th>2</th>\n",
       "      <td>0.465649</td>\n",
       "      <td>0.112360</td>\n",
       "      <td>0.202703</td>\n",
       "      <td>0.084337</td>\n",
       "      <td>0.012821</td>\n",
       "      <td>0.109756</td>\n",
       "      <td>0.134799</td>\n",
       "      <td>1</td>\n",
       "    </tr>\n",
       "    <tr>\n",
       "      <th>3</th>\n",
       "      <td>0.633588</td>\n",
       "      <td>0.101124</td>\n",
       "      <td>0.000000</td>\n",
       "      <td>0.168675</td>\n",
       "      <td>0.192308</td>\n",
       "      <td>0.012195</td>\n",
       "      <td>0.129628</td>\n",
       "      <td>0</td>\n",
       "    </tr>\n",
       "    <tr>\n",
       "      <th>4</th>\n",
       "      <td>0.412214</td>\n",
       "      <td>0.112360</td>\n",
       "      <td>0.202703</td>\n",
       "      <td>0.000000</td>\n",
       "      <td>0.012821</td>\n",
       "      <td>0.195122</td>\n",
       "      <td>0.059433</td>\n",
       "      <td>1</td>\n",
       "    </tr>\n",
       "    <tr>\n",
       "      <th>...</th>\n",
       "      <td>...</td>\n",
       "      <td>...</td>\n",
       "      <td>...</td>\n",
       "      <td>...</td>\n",
       "      <td>...</td>\n",
       "      <td>...</td>\n",
       "      <td>...</td>\n",
       "      <td>...</td>\n",
       "    </tr>\n",
       "    <tr>\n",
       "      <th>594</th>\n",
       "      <td>0.603053</td>\n",
       "      <td>0.292135</td>\n",
       "      <td>0.162162</td>\n",
       "      <td>0.265060</td>\n",
       "      <td>0.256410</td>\n",
       "      <td>0.121951</td>\n",
       "      <td>0.437442</td>\n",
       "      <td>0</td>\n",
       "    </tr>\n",
       "    <tr>\n",
       "      <th>595</th>\n",
       "      <td>0.450382</td>\n",
       "      <td>0.224719</td>\n",
       "      <td>0.324324</td>\n",
       "      <td>0.168675</td>\n",
       "      <td>0.025641</td>\n",
       "      <td>0.146341</td>\n",
       "      <td>0.374049</td>\n",
       "      <td>1</td>\n",
       "    </tr>\n",
       "    <tr>\n",
       "      <th>596</th>\n",
       "      <td>0.801527</td>\n",
       "      <td>0.359551</td>\n",
       "      <td>0.000000</td>\n",
       "      <td>0.433735</td>\n",
       "      <td>0.487179</td>\n",
       "      <td>0.024390</td>\n",
       "      <td>0.357297</td>\n",
       "      <td>0</td>\n",
       "    </tr>\n",
       "    <tr>\n",
       "      <th>597</th>\n",
       "      <td>0.557252</td>\n",
       "      <td>0.224719</td>\n",
       "      <td>0.243243</td>\n",
       "      <td>0.265060</td>\n",
       "      <td>0.102564</td>\n",
       "      <td>0.048780</td>\n",
       "      <td>0.644365</td>\n",
       "      <td>1</td>\n",
       "    </tr>\n",
       "    <tr>\n",
       "      <th>598</th>\n",
       "      <td>0.511450</td>\n",
       "      <td>0.089888</td>\n",
       "      <td>0.108108</td>\n",
       "      <td>0.072289</td>\n",
       "      <td>0.076923</td>\n",
       "      <td>0.097561</td>\n",
       "      <td>0.254465</td>\n",
       "      <td>0</td>\n",
       "    </tr>\n",
       "  </tbody>\n",
       "</table>\n",
       "<p>599 rows × 8 columns</p>\n",
       "</div>"
      ],
      "text/plain": [
       "     close-start  high-low  high-close  high-start  close-low  start-low  \\\n",
       "0       0.541985  0.033708    0.067568    0.084337   0.051282   0.024390   \n",
       "1       0.465649  0.168539    0.121622    0.012048   0.153846   0.243902   \n",
       "2       0.465649  0.112360    0.202703    0.084337   0.012821   0.109756   \n",
       "3       0.633588  0.101124    0.000000    0.168675   0.192308   0.012195   \n",
       "4       0.412214  0.112360    0.202703    0.000000   0.012821   0.195122   \n",
       "..           ...       ...         ...         ...        ...        ...   \n",
       "594     0.603053  0.292135    0.162162    0.265060   0.256410   0.121951   \n",
       "595     0.450382  0.224719    0.324324    0.168675   0.025641   0.146341   \n",
       "596     0.801527  0.359551    0.000000    0.433735   0.487179   0.024390   \n",
       "597     0.557252  0.224719    0.243243    0.265060   0.102564   0.048780   \n",
       "598     0.511450  0.089888    0.108108    0.072289   0.076923   0.097561   \n",
       "\n",
       "       volume  Diff  \n",
       "0    0.111197     0  \n",
       "1    0.123828     1  \n",
       "2    0.134799     1  \n",
       "3    0.129628     0  \n",
       "4    0.059433     1  \n",
       "..        ...   ...  \n",
       "594  0.437442     0  \n",
       "595  0.374049     1  \n",
       "596  0.357297     0  \n",
       "597  0.644365     1  \n",
       "598  0.254465     0  \n",
       "\n",
       "[599 rows x 8 columns]"
      ]
     },
     "execution_count": 4,
     "metadata": {},
     "output_type": "execute_result"
    }
   ],
   "source": [
    "data_set"
   ]
  },
  {
   "cell_type": "markdown",
   "metadata": {},
   "source": [
    "# 데이터셋 설정"
   ]
  },
  {
   "cell_type": "markdown",
   "metadata": {},
   "source": [
    "주가를 예측하는 것은 시계열 데이터를 필요로 하기 때문에 기존 데이터를 시계열 데이터에 맞게 변형을 해줘야 한다.  \n",
    "며칠 동안의 데이터를 가지고 예측을 할지를 window_size에 입력받고, 해당 숫자를 기반으로 시계열 데이터를 생성할 것이다.  \n",
    "window_size에 따라 딥러닝 결과가 달라질 수 있기 때문에 시계열 데이터를 '2_...'나 '3_...'에서 만들지 않고 '4_...'에서 바로바로 만들어서 사용했다."
   ]
  },
  {
   "cell_type": "markdown",
   "metadata": {},
   "source": [
    "또한 여러번 실행을 해보기 위해 함수를 사용했다."
   ]
  },
  {
   "cell_type": "code",
   "execution_count": 5,
   "metadata": {},
   "outputs": [],
   "source": [
    "# window의 사이즈와 train dataset의 사이즈 입력받는 함수\n",
    "\n",
    "def set_window_train_size(data):\n",
    "    \n",
    "    # 학습 데이터셋 70% 테스트 데이터셋 30%로 나눈다. (고정)\n",
    "    train_size=int(len(data)*0.7) \n",
    "    \n",
    "    # 시계열 데이터셋을 만들 때, 몇 개의 데이터를 가지고 만들지 설정한다.\n",
    "    # 예 : window_size=30 => 30일간의 데이터를 가진 시계열 데이터셋\n",
    "    window_size=int(input(\"window size : \"))\n",
    "\n",
    "    return window_size, train_size"
   ]
  },
  {
   "cell_type": "code",
   "execution_count": 6,
   "metadata": {},
   "outputs": [],
   "source": [
    "# feature 데이터와 class 데이터를 구분\n",
    "\n",
    "def split_feature_class(data):\n",
    "    \n",
    "    #feature_cols = ['close-start', 'high-low', 'high-close', 'high-start','close-low','start-low','volume']\n",
    "    #close_cols = ['close']\n",
    "    \n",
    "    feature_cols = ['close-start', 'high-low', 'high-close', 'high-start','close-low','start-low','volume']\n",
    "    close_cols = ['Diff']\n",
    "    \n",
    "    data_feature = data[feature_cols]\n",
    "    data_close = data[close_cols]\n",
    "    \n",
    "    return data_feature, data_close"
   ]
  },
  {
   "cell_type": "code",
   "execution_count": 7,
   "metadata": {},
   "outputs": [],
   "source": [
    "# window_size에 따라 데이터를 묶어주고 새로운 데이터셋 리턴\n",
    "def make_window_data(feature_data, class_data, window_size):\n",
    "    \n",
    "    feature_list=[]\n",
    "    class_list=[]\n",
    "    \n",
    "    for i in range(len(feature_data)-window_size):\n",
    "        feature_list.append(np.array(feature_data.iloc[i:i+window_size]))\n",
    "        class_list.append(np.array(class_data.iloc[i+window_size]))\n",
    "    \n",
    "    return np.array(feature_list), np.array(class_list)"
   ]
  },
  {
   "cell_type": "code",
   "execution_count": 8,
   "metadata": {},
   "outputs": [],
   "source": [
    "def make_dataset(data):\n",
    "    \n",
    "    # 시계열 데이터 크기(window_size)와 학습 데이터(train_size)의 크기\n",
    "    window_size, train_size=set_window_train_size(data)\n",
    "    \n",
    "    # 학습 데이터셋과 테스트 데이터셋 분리\n",
    "    train = data[:train_size] \n",
    "    test = data[train_size:] \n",
    "    \n",
    "    train_feature, train_class = split_feature_class(train)\n",
    "    test_feature, test_class = split_feature_class(test)\n",
    "    \n",
    "    train_feature, train_class = make_window_data(train_feature, train_class, window_size)\n",
    "    test_feature, test_class = make_window_data(test_feature, test_class, window_size)\n",
    "    \n",
    "    return train_feature, train_class, test_feature, test_class, window_size"
   ]
  },
  {
   "cell_type": "code",
   "execution_count": 9,
   "metadata": {},
   "outputs": [],
   "source": [
    "# 학습 데이터셋을 train과 valid로 분리\n",
    "\n",
    "def train_valid(train_feature,train_class):\n",
    "    split_size= float(input(\"학습 데이터 중 test size(validation data의 size)의 비율 (예 : 0.2) : \"))\n",
    "    X_train, X_valid, Y_train, Y_valid = train_test_split(train_feature, train_class, test_size = split_size, random_state=seed)\n",
    "    return X_train, X_valid, Y_train, Y_valid"
   ]
  },
  {
   "cell_type": "markdown",
   "metadata": {},
   "source": [
    "# 기본 데이터에 대한 딥러닝"
   ]
  },
  {
   "cell_type": "code",
   "execution_count": 10,
   "metadata": {
    "scrolled": true
   },
   "outputs": [
    {
     "name": "stdout",
     "output_type": "stream",
     "text": [
      "window size : 3\n",
      "학습 데이터 중 test size(validation data의 size)의 비율 (예 : 0.2) : 0.2\n"
     ]
    }
   ],
   "source": [
    "train_feature, train_class, test_feature, test_class, window_size = make_dataset(data_set)\n",
    "\n",
    "X_train, X_valid, Y_train, Y_valid = train_valid(train_feature, train_class)"
   ]
  },
  {
   "cell_type": "markdown",
   "metadata": {},
   "source": [
    "<span style='font-size:150%'>[LSTM]</span>  \n",
    "  \n",
    "시계열 데이터이기 때문에 LSTM을 사용했다.  \n",
    "2진 class이기 때문에  활성화 함수로 'sigmoid'를, 손실 함수로 'binary_crossentropy'를 사용한다."
   ]
  },
  {
   "cell_type": "code",
   "execution_count": 11,
   "metadata": {},
   "outputs": [
    {
     "name": "stdout",
     "output_type": "stream",
     "text": [
      "Model: \"sequential\"\n",
      "_________________________________________________________________\n",
      "Layer (type)                 Output Shape              Param #   \n",
      "=================================================================\n",
      "lstm (LSTM)                  (None, 20)                2240      \n",
      "_________________________________________________________________\n",
      "dense (Dense)                (None, 1)                 21        \n",
      "=================================================================\n",
      "Total params: 2,261\n",
      "Trainable params: 2,261\n",
      "Non-trainable params: 0\n",
      "_________________________________________________________________\n"
     ]
    }
   ],
   "source": [
    "model = Sequential()\n",
    "model.add(LSTM(20, \n",
    "               input_shape=(train_feature.shape[1], train_feature.shape[2]), #시계열 데이터의 구조\n",
    "               activation='relu',return_sequences=False))\n",
    "model.add(Dense(1,activation='sigmoid'))\n",
    "\n",
    "model.compile(loss='binary_crossentropy', optimizer='rmsprop',metrics=['accuracy'])\n",
    "\n",
    "#optimizer='rmsprop'\n",
    "#optimizer='adam'\n",
    "\n",
    "model.summary()"
   ]
  },
  {
   "cell_type": "markdown",
   "metadata": {},
   "source": [
    "# 모델 업데이트 과정 저장을 위한 환경 설정"
   ]
  },
  {
   "cell_type": "code",
   "execution_count": 12,
   "metadata": {},
   "outputs": [],
   "source": [
    "# 모델 저장 폴더 생성\n",
    "model_dir='./model_save'\n",
    "if not os.path.exists(model_dir):\n",
    "    os.mkdir(model_dir)\n",
    "    \n",
    "# 파일 저장 경로\n",
    "model_path='./model_save/11_'+str(window_size)+'_{epoch:d}_{val_loss:.4f}_{val_accuracy:.4f}.h5'"
   ]
  },
  {
   "cell_type": "code",
   "execution_count": 13,
   "metadata": {},
   "outputs": [
    {
     "data": {
      "text/plain": [
       "'./model_save/11_3_{epoch:d}_{val_loss:.4f}_{val_accuracy:.4f}.h5'"
      ]
     },
     "execution_count": 13,
     "metadata": {},
     "output_type": "execute_result"
    }
   ],
   "source": [
    "model_path"
   ]
  },
  {
   "cell_type": "code",
   "execution_count": 14,
   "metadata": {},
   "outputs": [],
   "source": [
    "# 학습 자동 중단 설정\n",
    "# 20번 연속 성능에 변화 없으면 학습 멈춤\n",
    "early_stop = EarlyStopping(monitor='val_loss', patience=20)"
   ]
  },
  {
   "cell_type": "code",
   "execution_count": 15,
   "metadata": {
    "scrolled": true
   },
   "outputs": [],
   "source": [
    "# 모델 업데이트 및 저장\n",
    "checkpoint = ModelCheckpoint(filepath=model_path, monitor='val_loss', verbose=1, save_best_only=True)"
   ]
  },
  {
   "cell_type": "code",
   "execution_count": 16,
   "metadata": {
    "scrolled": true
   },
   "outputs": [
    {
     "name": "stdout",
     "output_type": "stream",
     "text": [
      "Train on 332 samples, validate on 84 samples\n",
      "Epoch 1/200\n",
      "255/332 [======================>.......] - ETA: 0s - loss: 0.6937 - accuracy: 0.4784 \n",
      "Epoch 00001: val_loss improved from inf to 0.69209, saving model to ./model_save/11_3_1_0.6921_0.5357.h5\n",
      "332/332 [==============================] - 1s 4ms/sample - loss: 0.6937 - accuracy: 0.4759 - val_loss: 0.6921 - val_accuracy: 0.5357\n",
      "Epoch 2/200\n",
      "255/332 [======================>.......] - ETA: 0s - loss: 0.6932 - accuracy: 0.4667\n",
      "Epoch 00002: val_loss did not improve from 0.69209\n",
      "332/332 [==============================] - 0s 275us/sample - loss: 0.6931 - accuracy: 0.4819 - val_loss: 0.6922 - val_accuracy: 0.5595\n",
      "Epoch 3/200\n",
      "285/332 [========================>.....] - ETA: 0s - loss: 0.6929 - accuracy: 0.5018\n",
      "Epoch 00003: val_loss did not improve from 0.69209\n",
      "332/332 [==============================] - 0s 261us/sample - loss: 0.6930 - accuracy: 0.4880 - val_loss: 0.6924 - val_accuracy: 0.4762\n",
      "Epoch 4/200\n",
      "285/332 [========================>.....] - ETA: 0s - loss: 0.6927 - accuracy: 0.5333\n",
      "Epoch 00004: val_loss did not improve from 0.69209\n",
      "332/332 [==============================] - 0s 246us/sample - loss: 0.6927 - accuracy: 0.5301 - val_loss: 0.6926 - val_accuracy: 0.5238\n",
      "Epoch 5/200\n",
      "270/332 [=======================>......] - ETA: 0s - loss: 0.6928 - accuracy: 0.5037\n",
      "Epoch 00005: val_loss did not improve from 0.69209\n",
      "332/332 [==============================] - 0s 273us/sample - loss: 0.6926 - accuracy: 0.5151 - val_loss: 0.6924 - val_accuracy: 0.4762\n",
      "Epoch 6/200\n",
      "270/332 [=======================>......] - ETA: 0s - loss: 0.6921 - accuracy: 0.5333\n",
      "Epoch 00006: val_loss did not improve from 0.69209\n",
      "332/332 [==============================] - 0s 257us/sample - loss: 0.6924 - accuracy: 0.5422 - val_loss: 0.6928 - val_accuracy: 0.5000\n",
      "Epoch 7/200\n",
      "285/332 [========================>.....] - ETA: 0s - loss: 0.6923 - accuracy: 0.5298\n",
      "Epoch 00007: val_loss did not improve from 0.69209\n",
      "332/332 [==============================] - 0s 255us/sample - loss: 0.6922 - accuracy: 0.5361 - val_loss: 0.6930 - val_accuracy: 0.5000\n",
      "Epoch 8/200\n",
      "270/332 [=======================>......] - ETA: 0s - loss: 0.6924 - accuracy: 0.5000\n",
      "Epoch 00008: val_loss did not improve from 0.69209\n",
      "332/332 [==============================] - 0s 264us/sample - loss: 0.6922 - accuracy: 0.5151 - val_loss: 0.6927 - val_accuracy: 0.5119\n",
      "Epoch 9/200\n",
      "285/332 [========================>.....] - ETA: 0s - loss: 0.6921 - accuracy: 0.5298\n",
      "Epoch 00009: val_loss did not improve from 0.69209\n",
      "332/332 [==============================] - 0s 264us/sample - loss: 0.6920 - accuracy: 0.5271 - val_loss: 0.6922 - val_accuracy: 0.4881\n",
      "Epoch 10/200\n",
      "300/332 [==========================>...] - ETA: 0s - loss: 0.6920 - accuracy: 0.5467\n",
      "Epoch 00010: val_loss did not improve from 0.69209\n",
      "332/332 [==============================] - 0s 241us/sample - loss: 0.6919 - accuracy: 0.5452 - val_loss: 0.6922 - val_accuracy: 0.4881\n",
      "Epoch 11/200\n",
      "300/332 [==========================>...] - ETA: 0s - loss: 0.6922 - accuracy: 0.5367\n",
      "Epoch 00011: val_loss did not improve from 0.69209\n",
      "332/332 [==============================] - 0s 249us/sample - loss: 0.6918 - accuracy: 0.5361 - val_loss: 0.6922 - val_accuracy: 0.5119\n",
      "Epoch 12/200\n",
      "270/332 [=======================>......] - ETA: 0s - loss: 0.6899 - accuracy: 0.5741\n",
      "Epoch 00012: val_loss improved from 0.69209 to 0.69204, saving model to ./model_save/11_3_12_0.6920_0.5119.h5\n",
      "332/332 [==============================] - 0s 297us/sample - loss: 0.6917 - accuracy: 0.5301 - val_loss: 0.6920 - val_accuracy: 0.5119\n",
      "Epoch 13/200\n",
      "255/332 [======================>.......] - ETA: 0s - loss: 0.6914 - accuracy: 0.5333\n",
      "Epoch 00013: val_loss did not improve from 0.69204\n",
      "332/332 [==============================] - 0s 306us/sample - loss: 0.6915 - accuracy: 0.5482 - val_loss: 0.6926 - val_accuracy: 0.5000\n",
      "Epoch 14/200\n",
      "225/332 [===================>..........] - ETA: 0s - loss: 0.6911 - accuracy: 0.5289\n",
      "Epoch 00014: val_loss did not improve from 0.69204\n",
      "332/332 [==============================] - 0s 333us/sample - loss: 0.6913 - accuracy: 0.5271 - val_loss: 0.6928 - val_accuracy: 0.5000\n",
      "Epoch 15/200\n",
      "240/332 [====================>.........] - ETA: 0s - loss: 0.6897 - accuracy: 0.5667\n",
      "Epoch 00015: val_loss did not improve from 0.69204\n",
      "332/332 [==============================] - 0s 312us/sample - loss: 0.6912 - accuracy: 0.5331 - val_loss: 0.6929 - val_accuracy: 0.5000\n",
      "Epoch 16/200\n",
      "240/332 [====================>.........] - ETA: 0s - loss: 0.6919 - accuracy: 0.5042\n",
      "Epoch 00016: val_loss did not improve from 0.69204\n",
      "332/332 [==============================] - 0s 303us/sample - loss: 0.6911 - accuracy: 0.5211 - val_loss: 0.6924 - val_accuracy: 0.5119\n",
      "Epoch 17/200\n",
      "240/332 [====================>.........] - ETA: 0s - loss: 0.6923 - accuracy: 0.5125\n",
      "Epoch 00017: val_loss improved from 0.69204 to 0.69167, saving model to ./model_save/11_3_17_0.6917_0.4881.h5\n",
      "332/332 [==============================] - 0s 346us/sample - loss: 0.6910 - accuracy: 0.5331 - val_loss: 0.6917 - val_accuracy: 0.4881\n",
      "Epoch 18/200\n",
      "255/332 [======================>.......] - ETA: 0s - loss: 0.6903 - accuracy: 0.5725\n",
      "Epoch 00018: val_loss improved from 0.69167 to 0.69163, saving model to ./model_save/11_3_18_0.6916_0.4881.h5\n",
      "332/332 [==============================] - 0s 321us/sample - loss: 0.6909 - accuracy: 0.5512 - val_loss: 0.6916 - val_accuracy: 0.4881\n",
      "Epoch 19/200\n",
      "240/332 [====================>.........] - ETA: 0s - loss: 0.6901 - accuracy: 0.5542\n",
      "Epoch 00019: val_loss did not improve from 0.69163\n",
      "332/332 [==============================] - 0s 297us/sample - loss: 0.6908 - accuracy: 0.5482 - val_loss: 0.6922 - val_accuracy: 0.5119\n",
      "Epoch 20/200\n",
      "270/332 [=======================>......] - ETA: 0s - loss: 0.6906 - accuracy: 0.5556\n",
      "Epoch 00020: val_loss did not improve from 0.69163\n",
      "332/332 [==============================] - 0s 285us/sample - loss: 0.6906 - accuracy: 0.5542 - val_loss: 0.6927 - val_accuracy: 0.4881\n",
      "Epoch 21/200\n",
      "255/332 [======================>.......] - ETA: 0s - loss: 0.6905 - accuracy: 0.5373\n",
      "Epoch 00021: val_loss did not improve from 0.69163\n",
      "332/332 [==============================] - 0s 285us/sample - loss: 0.6906 - accuracy: 0.5392 - val_loss: 0.6924 - val_accuracy: 0.5119\n",
      "Epoch 22/200\n",
      "270/332 [=======================>......] - ETA: 0s - loss: 0.6902 - accuracy: 0.5519\n",
      "Epoch 00022: val_loss did not improve from 0.69163\n",
      "332/332 [==============================] - 0s 288us/sample - loss: 0.6903 - accuracy: 0.5512 - val_loss: 0.6924 - val_accuracy: 0.5119\n",
      "Epoch 23/200\n",
      "240/332 [====================>.........] - ETA: 0s - loss: 0.6895 - accuracy: 0.5458\n",
      "Epoch 00023: val_loss did not improve from 0.69163\n",
      "332/332 [==============================] - 0s 294us/sample - loss: 0.6902 - accuracy: 0.5392 - val_loss: 0.6919 - val_accuracy: 0.5119\n",
      "Epoch 24/200\n",
      "240/332 [====================>.........] - ETA: 0s - loss: 0.6893 - accuracy: 0.5708\n",
      "Epoch 00024: val_loss improved from 0.69163 to 0.69128, saving model to ./model_save/11_3_24_0.6913_0.5119.h5\n",
      "332/332 [==============================] - 0s 351us/sample - loss: 0.6902 - accuracy: 0.5512 - val_loss: 0.6913 - val_accuracy: 0.5119\n",
      "Epoch 25/200\n",
      "240/332 [====================>.........] - ETA: 0s - loss: 0.6898 - accuracy: 0.5208\n",
      "Epoch 00025: val_loss did not improve from 0.69128\n",
      "332/332 [==============================] - 0s 315us/sample - loss: 0.6898 - accuracy: 0.5331 - val_loss: 0.6923 - val_accuracy: 0.5119\n",
      "Epoch 26/200\n",
      "210/332 [=================>............] - ETA: 0s - loss: 0.6896 - accuracy: 0.5524\n",
      "Epoch 00026: val_loss did not improve from 0.69128\n",
      "332/332 [==============================] - 0s 370us/sample - loss: 0.6898 - accuracy: 0.5482 - val_loss: 0.6931 - val_accuracy: 0.5000\n",
      "Epoch 27/200\n",
      "195/332 [================>.............] - ETA: 0s - loss: 0.6866 - accuracy: 0.5487\n",
      "Epoch 00027: val_loss did not improve from 0.69128\n",
      "332/332 [==============================] - 0s 385us/sample - loss: 0.6896 - accuracy: 0.5301 - val_loss: 0.6927 - val_accuracy: 0.4881\n",
      "Epoch 28/200\n",
      "195/332 [================>.............] - ETA: 0s - loss: 0.6891 - accuracy: 0.5385\n",
      "Epoch 00028: val_loss improved from 0.69128 to 0.69118, saving model to ./model_save/11_3_28_0.6912_0.5119.h5\n"
     ]
    },
    {
     "name": "stdout",
     "output_type": "stream",
     "text": [
      "332/332 [==============================] - 0s 481us/sample - loss: 0.6895 - accuracy: 0.5482 - val_loss: 0.6912 - val_accuracy: 0.5119\n",
      "Epoch 29/200\n",
      "180/332 [===============>..............] - ETA: 0s - loss: 0.6903 - accuracy: 0.5444\n",
      "Epoch 00029: val_loss did not improve from 0.69118\n",
      "332/332 [==============================] - 0s 415us/sample - loss: 0.6893 - accuracy: 0.5633 - val_loss: 0.6913 - val_accuracy: 0.5119\n",
      "Epoch 30/200\n",
      "180/332 [===============>..............] - ETA: 0s - loss: 0.6915 - accuracy: 0.5056\n",
      "Epoch 00030: val_loss did not improve from 0.69118\n",
      "332/332 [==============================] - 0s 394us/sample - loss: 0.6893 - accuracy: 0.5482 - val_loss: 0.6913 - val_accuracy: 0.5119\n",
      "Epoch 31/200\n",
      "180/332 [===============>..............] - ETA: 0s - loss: 0.6874 - accuracy: 0.5444\n",
      "Epoch 00031: val_loss improved from 0.69118 to 0.69109, saving model to ./model_save/11_3_31_0.6911_0.5119.h5\n",
      "332/332 [==============================] - 0s 499us/sample - loss: 0.6891 - accuracy: 0.5542 - val_loss: 0.6911 - val_accuracy: 0.5119\n",
      "Epoch 32/200\n",
      "315/332 [===========================>..] - ETA: 0s - loss: 0.6898 - accuracy: 0.5429\n",
      "Epoch 00032: val_loss improved from 0.69109 to 0.69081, saving model to ./model_save/11_3_32_0.6908_0.5119.h5\n",
      "332/332 [==============================] - 0s 520us/sample - loss: 0.6891 - accuracy: 0.5542 - val_loss: 0.6908 - val_accuracy: 0.5119\n",
      "Epoch 33/200\n",
      "315/332 [===========================>..] - ETA: 0s - loss: 0.6881 - accuracy: 0.5619\n",
      "Epoch 00033: val_loss did not improve from 0.69081\n",
      "332/332 [==============================] - 0s 490us/sample - loss: 0.6887 - accuracy: 0.5572 - val_loss: 0.6911 - val_accuracy: 0.5119\n",
      "Epoch 34/200\n",
      "315/332 [===========================>..] - ETA: 0s - loss: 0.6882 - accuracy: 0.5651\n",
      "Epoch 00034: val_loss improved from 0.69081 to 0.68942, saving model to ./model_save/11_3_34_0.6894_0.5000.h5\n",
      "332/332 [==============================] - 0s 589us/sample - loss: 0.6887 - accuracy: 0.5572 - val_loss: 0.6894 - val_accuracy: 0.5000\n",
      "Epoch 35/200\n",
      "285/332 [========================>.....] - ETA: 0s - loss: 0.6890 - accuracy: 0.5263\n",
      "Epoch 00035: val_loss did not improve from 0.68942\n",
      "332/332 [==============================] - 0s 493us/sample - loss: 0.6890 - accuracy: 0.5241 - val_loss: 0.6906 - val_accuracy: 0.5119\n",
      "Epoch 36/200\n",
      "315/332 [===========================>..] - ETA: 0s - loss: 0.6878 - accuracy: 0.5587\n",
      "Epoch 00036: val_loss did not improve from 0.68942\n",
      "332/332 [==============================] - 0s 475us/sample - loss: 0.6884 - accuracy: 0.5542 - val_loss: 0.6902 - val_accuracy: 0.5119\n",
      "Epoch 37/200\n",
      "300/332 [==========================>...] - ETA: 0s - loss: 0.6885 - accuracy: 0.5400\n",
      "Epoch 00037: val_loss did not improve from 0.68942\n",
      "332/332 [==============================] - 0s 478us/sample - loss: 0.6884 - accuracy: 0.5482 - val_loss: 0.6902 - val_accuracy: 0.5000\n",
      "Epoch 38/200\n",
      "300/332 [==========================>...] - ETA: 0s - loss: 0.6859 - accuracy: 0.5500\n",
      "Epoch 00038: val_loss did not improve from 0.68942\n",
      "332/332 [==============================] - 0s 517us/sample - loss: 0.6884 - accuracy: 0.5512 - val_loss: 0.6896 - val_accuracy: 0.4762\n",
      "Epoch 39/200\n",
      "315/332 [===========================>..] - ETA: 0s - loss: 0.6876 - accuracy: 0.5492\n",
      "Epoch 00039: val_loss did not improve from 0.68942\n",
      "332/332 [==============================] - 0s 460us/sample - loss: 0.6884 - accuracy: 0.5482 - val_loss: 0.6909 - val_accuracy: 0.5119\n",
      "Epoch 40/200\n",
      "330/332 [============================>.] - ETA: 0s - loss: 0.6878 - accuracy: 0.5636\n",
      "Epoch 00040: val_loss did not improve from 0.68942\n",
      "332/332 [==============================] - 0s 457us/sample - loss: 0.6882 - accuracy: 0.5602 - val_loss: 0.6913 - val_accuracy: 0.5119\n",
      "Epoch 41/200\n",
      "330/332 [============================>.] - ETA: 0s - loss: 0.6879 - accuracy: 0.5515\n",
      "Epoch 00041: val_loss did not improve from 0.68942\n",
      "332/332 [==============================] - 0s 442us/sample - loss: 0.6880 - accuracy: 0.5512 - val_loss: 0.6911 - val_accuracy: 0.5119\n",
      "Epoch 42/200\n",
      "180/332 [===============>..............] - ETA: 0s - loss: 0.6866 - accuracy: 0.6000\n",
      "Epoch 00042: val_loss did not improve from 0.68942\n",
      "332/332 [==============================] - 0s 436us/sample - loss: 0.6881 - accuracy: 0.5663 - val_loss: 0.6910 - val_accuracy: 0.5119\n",
      "Epoch 43/200\n",
      "180/332 [===============>..............] - ETA: 0s - loss: 0.6919 - accuracy: 0.5611\n",
      "Epoch 00043: val_loss did not improve from 0.68942\n",
      "332/332 [==============================] - 0s 430us/sample - loss: 0.6878 - accuracy: 0.5633 - val_loss: 0.6897 - val_accuracy: 0.4762\n",
      "Epoch 44/200\n",
      "195/332 [================>.............] - ETA: 0s - loss: 0.6879 - accuracy: 0.5538\n",
      "Epoch 00044: val_loss did not improve from 0.68942\n",
      "332/332 [==============================] - 0s 409us/sample - loss: 0.6876 - accuracy: 0.5602 - val_loss: 0.6898 - val_accuracy: 0.5000\n",
      "Epoch 45/200\n",
      "315/332 [===========================>..] - ETA: 0s - loss: 0.6876 - accuracy: 0.5460\n",
      "Epoch 00045: val_loss did not improve from 0.68942\n",
      "332/332 [==============================] - 0s 451us/sample - loss: 0.6875 - accuracy: 0.5482 - val_loss: 0.6903 - val_accuracy: 0.5119\n",
      "Epoch 46/200\n",
      "330/332 [============================>.] - ETA: 0s - loss: 0.6866 - accuracy: 0.5636\n",
      "Epoch 00046: val_loss did not improve from 0.68942\n",
      "332/332 [==============================] - 0s 457us/sample - loss: 0.6874 - accuracy: 0.5633 - val_loss: 0.6916 - val_accuracy: 0.5119\n",
      "Epoch 47/200\n",
      "315/332 [===========================>..] - ETA: 0s - loss: 0.6872 - accuracy: 0.5619\n",
      "Epoch 00047: val_loss did not improve from 0.68942\n",
      "332/332 [==============================] - 0s 475us/sample - loss: 0.6874 - accuracy: 0.5602 - val_loss: 0.6910 - val_accuracy: 0.5119\n",
      "Epoch 48/200\n",
      "330/332 [============================>.] - ETA: 0s - loss: 0.6876 - accuracy: 0.5576\n",
      "Epoch 00048: val_loss did not improve from 0.68942\n",
      "332/332 [==============================] - 0s 442us/sample - loss: 0.6874 - accuracy: 0.5602 - val_loss: 0.6912 - val_accuracy: 0.5119\n",
      "Epoch 49/200\n",
      "195/332 [================>.............] - ETA: 0s - loss: 0.6864 - accuracy: 0.5538\n",
      "Epoch 00049: val_loss did not improve from 0.68942\n",
      "332/332 [==============================] - 0s 403us/sample - loss: 0.6871 - accuracy: 0.5663 - val_loss: 0.6923 - val_accuracy: 0.5119\n",
      "Epoch 50/200\n",
      "180/332 [===============>..............] - ETA: 0s - loss: 0.6813 - accuracy: 0.5889\n",
      "Epoch 00050: val_loss did not improve from 0.68942\n",
      "332/332 [==============================] - 0s 409us/sample - loss: 0.6871 - accuracy: 0.5663 - val_loss: 0.6899 - val_accuracy: 0.5000\n",
      "Epoch 51/200\n",
      "195/332 [================>.............] - ETA: 0s - loss: 0.6878 - accuracy: 0.5641\n",
      "Epoch 00051: val_loss did not improve from 0.68942\n",
      "332/332 [==============================] - 0s 415us/sample - loss: 0.6870 - accuracy: 0.5693 - val_loss: 0.6900 - val_accuracy: 0.5000\n",
      "Epoch 52/200\n",
      "180/332 [===============>..............] - ETA: 0s - loss: 0.6810 - accuracy: 0.5667\n",
      "Epoch 00052: val_loss did not improve from 0.68942\n",
      "332/332 [==============================] - 0s 400us/sample - loss: 0.6868 - accuracy: 0.5602 - val_loss: 0.6894 - val_accuracy: 0.4881\n",
      "Epoch 53/200\n",
      "210/332 [=================>............] - ETA: 0s - loss: 0.6892 - accuracy: 0.5619\n",
      "Epoch 00053: val_loss improved from 0.68942 to 0.68803, saving model to ./model_save/11_3_53_0.6880_0.4881.h5\n",
      "332/332 [==============================] - 0s 450us/sample - loss: 0.6867 - accuracy: 0.5663 - val_loss: 0.6880 - val_accuracy: 0.4881\n",
      "Epoch 54/200\n",
      "195/332 [================>.............] - ETA: 0s - loss: 0.6862 - accuracy: 0.5744\n",
      "Epoch 00054: val_loss did not improve from 0.68803\n",
      "332/332 [==============================] - 0s 387us/sample - loss: 0.6870 - accuracy: 0.5482 - val_loss: 0.6887 - val_accuracy: 0.5119\n",
      "Epoch 55/200\n",
      "210/332 [=================>............] - ETA: 0s - loss: 0.6793 - accuracy: 0.5619\n",
      "Epoch 00055: val_loss did not improve from 0.68803\n",
      "332/332 [==============================] - 0s 358us/sample - loss: 0.6865 - accuracy: 0.5392 - val_loss: 0.6913 - val_accuracy: 0.5119\n",
      "Epoch 56/200\n",
      "195/332 [================>.............] - ETA: 0s - loss: 0.6865 - accuracy: 0.5897\n",
      "Epoch 00056: val_loss did not improve from 0.68803\n",
      "332/332 [==============================] - 0s 429us/sample - loss: 0.6863 - accuracy: 0.5663 - val_loss: 0.6895 - val_accuracy: 0.4762\n"
     ]
    },
    {
     "name": "stdout",
     "output_type": "stream",
     "text": [
      "Epoch 57/200\n",
      "180/332 [===============>..............] - ETA: 0s - loss: 0.6896 - accuracy: 0.5778\n",
      "Epoch 00057: val_loss did not improve from 0.68803\n",
      "332/332 [==============================] - 0s 389us/sample - loss: 0.6866 - accuracy: 0.5663 - val_loss: 0.6896 - val_accuracy: 0.4881\n",
      "Epoch 58/200\n",
      "195/332 [================>.............] - ETA: 0s - loss: 0.6836 - accuracy: 0.5641\n",
      "Epoch 00058: val_loss did not improve from 0.68803\n",
      "332/332 [==============================] - 0s 385us/sample - loss: 0.6865 - accuracy: 0.5572 - val_loss: 0.6893 - val_accuracy: 0.4881\n",
      "Epoch 59/200\n",
      "195/332 [================>.............] - ETA: 0s - loss: 0.6929 - accuracy: 0.5333\n",
      "Epoch 00059: val_loss did not improve from 0.68803\n",
      "332/332 [==============================] - 0s 369us/sample - loss: 0.6863 - accuracy: 0.5663 - val_loss: 0.6899 - val_accuracy: 0.4881\n",
      "Epoch 60/200\n",
      "210/332 [=================>............] - ETA: 0s - loss: 0.6913 - accuracy: 0.5667\n",
      "Epoch 00060: val_loss improved from 0.68803 to 0.68799, saving model to ./model_save/11_3_60_0.6880_0.4881.h5\n",
      "332/332 [==============================] - 0s 454us/sample - loss: 0.6861 - accuracy: 0.5633 - val_loss: 0.6880 - val_accuracy: 0.4881\n",
      "Epoch 61/200\n",
      "195/332 [================>.............] - ETA: 0s - loss: 0.6863 - accuracy: 0.5949\n",
      "Epoch 00061: val_loss improved from 0.68799 to 0.68704, saving model to ./model_save/11_3_61_0.6870_0.5000.h5\n",
      "332/332 [==============================] - 0s 499us/sample - loss: 0.6862 - accuracy: 0.5723 - val_loss: 0.6870 - val_accuracy: 0.5000\n",
      "Epoch 62/200\n",
      "315/332 [===========================>..] - ETA: 0s - loss: 0.6864 - accuracy: 0.5492\n",
      "Epoch 00062: val_loss did not improve from 0.68704\n",
      "332/332 [==============================] - 0s 475us/sample - loss: 0.6863 - accuracy: 0.5512 - val_loss: 0.6887 - val_accuracy: 0.5000\n",
      "Epoch 63/200\n",
      "315/332 [===========================>..] - ETA: 0s - loss: 0.6864 - accuracy: 0.5746\n",
      "Epoch 00063: val_loss did not improve from 0.68704\n",
      "332/332 [==============================] - 0s 454us/sample - loss: 0.6861 - accuracy: 0.5633 - val_loss: 0.6905 - val_accuracy: 0.5000\n",
      "Epoch 64/200\n",
      "300/332 [==========================>...] - ETA: 0s - loss: 0.6859 - accuracy: 0.5633\n",
      "Epoch 00064: val_loss did not improve from 0.68704\n",
      "332/332 [==============================] - 0s 469us/sample - loss: 0.6857 - accuracy: 0.5602 - val_loss: 0.6909 - val_accuracy: 0.5119\n",
      "Epoch 65/200\n",
      "315/332 [===========================>..] - ETA: 0s - loss: 0.6852 - accuracy: 0.5714\n",
      "Epoch 00065: val_loss did not improve from 0.68704\n",
      "332/332 [==============================] - 0s 475us/sample - loss: 0.6859 - accuracy: 0.5693 - val_loss: 0.6927 - val_accuracy: 0.5119\n",
      "Epoch 66/200\n",
      "330/332 [============================>.] - ETA: 0s - loss: 0.6855 - accuracy: 0.5545\n",
      "Epoch 00066: val_loss did not improve from 0.68704\n",
      "332/332 [==============================] - 0s 448us/sample - loss: 0.6856 - accuracy: 0.5542 - val_loss: 0.6913 - val_accuracy: 0.5119\n",
      "Epoch 67/200\n",
      "330/332 [============================>.] - ETA: 0s - loss: 0.6847 - accuracy: 0.5667\n",
      "Epoch 00067: val_loss did not improve from 0.68704\n",
      "332/332 [==============================] - 0s 463us/sample - loss: 0.6853 - accuracy: 0.5633 - val_loss: 0.6900 - val_accuracy: 0.5000\n",
      "Epoch 68/200\n",
      "330/332 [============================>.] - ETA: 0s - loss: 0.6855 - accuracy: 0.5576\n",
      "Epoch 00068: val_loss did not improve from 0.68704\n",
      "332/332 [==============================] - 0s 451us/sample - loss: 0.6853 - accuracy: 0.5572 - val_loss: 0.6896 - val_accuracy: 0.5119\n",
      "Epoch 69/200\n",
      "180/332 [===============>..............] - ETA: 0s - loss: 0.6901 - accuracy: 0.5111\n",
      "Epoch 00069: val_loss did not improve from 0.68704\n",
      "332/332 [==============================] - 0s 433us/sample - loss: 0.6854 - accuracy: 0.5542 - val_loss: 0.6900 - val_accuracy: 0.5000\n",
      "Epoch 70/200\n",
      "330/332 [============================>.] - ETA: 0s - loss: 0.6843 - accuracy: 0.5606\n",
      "Epoch 00070: val_loss did not improve from 0.68704\n",
      "332/332 [==============================] - 0s 454us/sample - loss: 0.6853 - accuracy: 0.5572 - val_loss: 0.6908 - val_accuracy: 0.5119\n",
      "Epoch 71/200\n",
      "180/332 [===============>..............] - ETA: 0s - loss: 0.6819 - accuracy: 0.5833\n",
      "Epoch 00071: val_loss did not improve from 0.68704\n",
      "332/332 [==============================] - 0s 427us/sample - loss: 0.6855 - accuracy: 0.5633 - val_loss: 0.6888 - val_accuracy: 0.5000\n",
      "Epoch 72/200\n",
      "300/332 [==========================>...] - ETA: 0s - loss: 0.6835 - accuracy: 0.5667\n",
      "Epoch 00072: val_loss did not improve from 0.68704\n",
      "332/332 [==============================] - 0s 478us/sample - loss: 0.6847 - accuracy: 0.5572 - val_loss: 0.6876 - val_accuracy: 0.5119\n",
      "Epoch 73/200\n",
      "315/332 [===========================>..] - ETA: 0s - loss: 0.6833 - accuracy: 0.5746\n",
      "Epoch 00073: val_loss did not improve from 0.68704\n",
      "332/332 [==============================] - 0s 460us/sample - loss: 0.6850 - accuracy: 0.5753 - val_loss: 0.6904 - val_accuracy: 0.5000\n",
      "Epoch 74/200\n",
      "330/332 [============================>.] - ETA: 0s - loss: 0.6856 - accuracy: 0.5455\n",
      "Epoch 00074: val_loss did not improve from 0.68704\n",
      "332/332 [==============================] - 0s 466us/sample - loss: 0.6852 - accuracy: 0.5482 - val_loss: 0.6918 - val_accuracy: 0.5000\n",
      "Epoch 75/200\n",
      "315/332 [===========================>..] - ETA: 0s - loss: 0.6833 - accuracy: 0.5714\n",
      "Epoch 00075: val_loss did not improve from 0.68704\n",
      "332/332 [==============================] - 0s 445us/sample - loss: 0.6848 - accuracy: 0.5663 - val_loss: 0.6940 - val_accuracy: 0.5119\n",
      "Epoch 76/200\n",
      "195/332 [================>.............] - ETA: 0s - loss: 0.6788 - accuracy: 0.5744\n",
      "Epoch 00076: val_loss did not improve from 0.68704\n",
      "332/332 [==============================] - 0s 388us/sample - loss: 0.6844 - accuracy: 0.5663 - val_loss: 0.6928 - val_accuracy: 0.5119\n",
      "Epoch 77/200\n",
      "195/332 [================>.............] - ETA: 0s - loss: 0.6900 - accuracy: 0.5436\n",
      "Epoch 00077: val_loss did not improve from 0.68704\n",
      "332/332 [==============================] - 0s 382us/sample - loss: 0.6844 - accuracy: 0.5572 - val_loss: 0.6893 - val_accuracy: 0.5000\n",
      "Epoch 78/200\n",
      "195/332 [================>.............] - ETA: 0s - loss: 0.6815 - accuracy: 0.5744\n",
      "Epoch 00078: val_loss did not improve from 0.68704\n",
      "332/332 [==============================] - 0s 399us/sample - loss: 0.6844 - accuracy: 0.5572 - val_loss: 0.6910 - val_accuracy: 0.5000\n",
      "Epoch 79/200\n",
      "210/332 [=================>............] - ETA: 0s - loss: 0.6850 - accuracy: 0.5381\n",
      "Epoch 00079: val_loss did not improve from 0.68704\n",
      "332/332 [==============================] - 0s 382us/sample - loss: 0.6840 - accuracy: 0.5512 - val_loss: 0.6921 - val_accuracy: 0.5119\n",
      "Epoch 80/200\n",
      "210/332 [=================>............] - ETA: 0s - loss: 0.6870 - accuracy: 0.5476\n",
      "Epoch 00080: val_loss did not improve from 0.68704\n",
      "332/332 [==============================] - 0s 384us/sample - loss: 0.6836 - accuracy: 0.5542 - val_loss: 0.6903 - val_accuracy: 0.5119\n",
      "Epoch 81/200\n",
      "195/332 [================>.............] - ETA: 0s - loss: 0.6810 - accuracy: 0.5538\n",
      "Epoch 00081: val_loss did not improve from 0.68704\n",
      "332/332 [==============================] - 0s 373us/sample - loss: 0.6843 - accuracy: 0.5542 - val_loss: 0.6893 - val_accuracy: 0.5000\n"
     ]
    }
   ],
   "source": [
    "history = model.fit(X_train, Y_train,                     \n",
    "                    validation_data=(X_valid, Y_valid), \n",
    "                    epochs=200, \n",
    "                    batch_size=15, \n",
    "                    callbacks=[early_stop, checkpoint])"
   ]
  },
  {
   "cell_type": "code",
   "execution_count": 17,
   "metadata": {},
   "outputs": [
    {
     "data": {
      "text/plain": [
       "<tensorflow.python.keras.callbacks.History at 0x20b9ab50128>"
      ]
     },
     "execution_count": 17,
     "metadata": {},
     "output_type": "execute_result"
    }
   ],
   "source": [
    "history"
   ]
  },
  {
   "cell_type": "code",
   "execution_count": 18,
   "metadata": {
    "scrolled": false
   },
   "outputs": [
    {
     "name": "stdout",
     "output_type": "stream",
     "text": [
      "416/416 [==============================] - 1s 1ms/sample - loss: 0.6842 - accuracy: 0.5553\n",
      "\n",
      "Accuracy : 0.5553\n"
     ]
    }
   ],
   "source": [
    "print(\"\\nAccuracy : %.4f\"%(model.evaluate(train_feature,train_class)[1]))"
   ]
  },
  {
   "cell_type": "code",
   "execution_count": 19,
   "metadata": {
    "scrolled": false
   },
   "outputs": [
    {
     "name": "stdout",
     "output_type": "stream",
     "text": [
      "177/177 [==============================] - 0s 84us/sample - loss: 0.7086 - accuracy: 0.4463\n",
      "\n",
      "Accuracy : 0.4463\n"
     ]
    }
   ],
   "source": [
    "print(\"\\nAccuracy : %.4f\"%(model.evaluate(test_feature,test_class)[1]))"
   ]
  },
  {
   "cell_type": "markdown",
   "metadata": {},
   "source": [
    "탈락."
   ]
  },
  {
   "cell_type": "code",
   "execution_count": null,
   "metadata": {},
   "outputs": [],
   "source": []
  }
 ],
 "metadata": {
  "kernelspec": {
   "display_name": "Python 3",
   "language": "python",
   "name": "python3"
  },
  "language_info": {
   "codemirror_mode": {
    "name": "ipython",
    "version": 3
   },
   "file_extension": ".py",
   "mimetype": "text/x-python",
   "name": "python",
   "nbconvert_exporter": "python",
   "pygments_lexer": "ipython3",
   "version": "3.6.12"
  }
 },
 "nbformat": 4,
 "nbformat_minor": 4
}
